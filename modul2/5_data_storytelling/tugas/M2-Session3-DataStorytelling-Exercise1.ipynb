{
 "cells": [
  {
   "cell_type": "markdown",
   "metadata": {
    "id": "RaRhDtJcfdui"
   },
   "source": [
    "**<title>Data Story Telling</title>**\n",
    "\n",
    "**<h1>Data Storytelling</h1>**\n",
    "\n",
    "**<subtitle>Theme: Human Development Index (Indeks Pembangunan Manusia)</subtitle>**\n",
    "\n",
    "<hr>\n",
    "\n"
   ]
  },
  {
   "cell_type": "code",
   "execution_count": 128,
   "metadata": {
    "id": "Hzz2mr5Tfdul"
   },
   "outputs": [],
   "source": [
    "import pandas as pd\n",
    "import numpy as np\n",
    "import matplotlib.pyplot as plt\n",
    "import seaborn as sns\n",
    "import plotly.express as px"
   ]
  },
  {
   "cell_type": "code",
   "execution_count": 129,
   "metadata": {
    "id": "Dp93j-b_fdum",
    "outputId": "e37ff365-cefe-47de-bc95-5b73908a7fd2"
   },
   "outputs": [
    {
     "data": {
      "text/html": [
       "<div>\n",
       "<style scoped>\n",
       "    .dataframe tbody tr th:only-of-type {\n",
       "        vertical-align: middle;\n",
       "    }\n",
       "\n",
       "    .dataframe tbody tr th {\n",
       "        vertical-align: top;\n",
       "    }\n",
       "\n",
       "    .dataframe thead th {\n",
       "        text-align: right;\n",
       "    }\n",
       "</style>\n",
       "<table border=\"1\" class=\"dataframe\">\n",
       "  <thead>\n",
       "    <tr style=\"text-align: right;\">\n",
       "      <th></th>\n",
       "      <th>Provinsi</th>\n",
       "      <th>2010</th>\n",
       "      <th>2011</th>\n",
       "      <th>2012</th>\n",
       "      <th>2013</th>\n",
       "      <th>2014</th>\n",
       "      <th>2015</th>\n",
       "      <th>2016</th>\n",
       "      <th>2017</th>\n",
       "      <th>2018</th>\n",
       "      <th>2019</th>\n",
       "      <th>2020</th>\n",
       "      <th>2021</th>\n",
       "      <th>2022</th>\n",
       "    </tr>\n",
       "  </thead>\n",
       "  <tbody>\n",
       "    <tr>\n",
       "      <th>0</th>\n",
       "      <td>ACEH</td>\n",
       "      <td>67.09</td>\n",
       "      <td>67.45</td>\n",
       "      <td>67.81</td>\n",
       "      <td>68.30</td>\n",
       "      <td>68.81</td>\n",
       "      <td>69.45</td>\n",
       "      <td>70.00</td>\n",
       "      <td>70.60</td>\n",
       "      <td>71.19</td>\n",
       "      <td>71.90</td>\n",
       "      <td>71.99</td>\n",
       "      <td>72.18</td>\n",
       "      <td>72.80</td>\n",
       "    </tr>\n",
       "    <tr>\n",
       "      <th>1</th>\n",
       "      <td>SUMATERA UTARA</td>\n",
       "      <td>67.09</td>\n",
       "      <td>67.34</td>\n",
       "      <td>67.74</td>\n",
       "      <td>68.36</td>\n",
       "      <td>68.87</td>\n",
       "      <td>69.51</td>\n",
       "      <td>70.00</td>\n",
       "      <td>70.57</td>\n",
       "      <td>71.18</td>\n",
       "      <td>71.74</td>\n",
       "      <td>71.77</td>\n",
       "      <td>72.00</td>\n",
       "      <td>72.71</td>\n",
       "    </tr>\n",
       "    <tr>\n",
       "      <th>2</th>\n",
       "      <td>SUMATERA BARAT</td>\n",
       "      <td>67.25</td>\n",
       "      <td>67.81</td>\n",
       "      <td>68.36</td>\n",
       "      <td>68.91</td>\n",
       "      <td>69.36</td>\n",
       "      <td>69.98</td>\n",
       "      <td>70.73</td>\n",
       "      <td>71.24</td>\n",
       "      <td>71.73</td>\n",
       "      <td>72.39</td>\n",
       "      <td>72.38</td>\n",
       "      <td>72.65</td>\n",
       "      <td>73.26</td>\n",
       "    </tr>\n",
       "    <tr>\n",
       "      <th>3</th>\n",
       "      <td>RIAU</td>\n",
       "      <td>68.65</td>\n",
       "      <td>68.90</td>\n",
       "      <td>69.15</td>\n",
       "      <td>69.91</td>\n",
       "      <td>70.33</td>\n",
       "      <td>70.84</td>\n",
       "      <td>71.20</td>\n",
       "      <td>71.79</td>\n",
       "      <td>72.44</td>\n",
       "      <td>73.00</td>\n",
       "      <td>72.71</td>\n",
       "      <td>72.94</td>\n",
       "      <td>73.52</td>\n",
       "    </tr>\n",
       "    <tr>\n",
       "      <th>4</th>\n",
       "      <td>JAMBI</td>\n",
       "      <td>65.39</td>\n",
       "      <td>66.14</td>\n",
       "      <td>66.94</td>\n",
       "      <td>67.76</td>\n",
       "      <td>68.24</td>\n",
       "      <td>68.89</td>\n",
       "      <td>69.62</td>\n",
       "      <td>69.99</td>\n",
       "      <td>70.65</td>\n",
       "      <td>71.26</td>\n",
       "      <td>71.29</td>\n",
       "      <td>71.63</td>\n",
       "      <td>72.14</td>\n",
       "    </tr>\n",
       "  </tbody>\n",
       "</table>\n",
       "</div>"
      ],
      "text/plain": [
       "         Provinsi   2010   2011   2012   2013   2014   2015   2016   2017  \\\n",
       "0            ACEH  67.09  67.45  67.81  68.30  68.81  69.45  70.00  70.60   \n",
       "1  SUMATERA UTARA  67.09  67.34  67.74  68.36  68.87  69.51  70.00  70.57   \n",
       "2  SUMATERA BARAT  67.25  67.81  68.36  68.91  69.36  69.98  70.73  71.24   \n",
       "3            RIAU  68.65  68.90  69.15  69.91  70.33  70.84  71.20  71.79   \n",
       "4           JAMBI  65.39  66.14  66.94  67.76  68.24  68.89  69.62  69.99   \n",
       "\n",
       "    2018   2019   2020   2021   2022  \n",
       "0  71.19  71.90  71.99  72.18  72.80  \n",
       "1  71.18  71.74  71.77  72.00  72.71  \n",
       "2  71.73  72.39  72.38  72.65  73.26  \n",
       "3  72.44  73.00  72.71  72.94  73.52  \n",
       "4  70.65  71.26  71.29  71.63  72.14  "
      ]
     },
     "execution_count": 129,
     "metadata": {},
     "output_type": "execute_result"
    }
   ],
   "source": [
    "df = pd.read_excel(\"HDI Indonesia.xlsx\", sheet_name='Sheet1')\n",
    "df.head()"
   ]
  },
  {
   "cell_type": "code",
   "execution_count": 130,
   "metadata": {},
   "outputs": [
    {
     "data": {
      "text/plain": [
       "Provinsi     object\n",
       "2010         object\n",
       "2011         object\n",
       "2012         object\n",
       "2013        float64\n",
       "2014        float64\n",
       "2015        float64\n",
       "2016        float64\n",
       "2017        float64\n",
       "2018        float64\n",
       "2019        float64\n",
       "2020        float64\n",
       "2021        float64\n",
       "2022        float64\n",
       "dtype: object"
      ]
     },
     "execution_count": 130,
     "metadata": {},
     "output_type": "execute_result"
    }
   ],
   "source": [
    "df.dtypes"
   ]
  },
  {
   "cell_type": "code",
   "execution_count": 131,
   "metadata": {},
   "outputs": [],
   "source": [
    "df.replace('-', np.nan, inplace=True)\n",
    "df['2010'] = df['2010'].astype(float)\n",
    "df['2011'] = df['2011'].astype(float)\n",
    "df['2012'] = df['2012'].astype(float)"
   ]
  },
  {
   "cell_type": "code",
   "execution_count": 132,
   "metadata": {},
   "outputs": [
    {
     "data": {
      "text/plain": [
       "Provinsi     object\n",
       "2010        float64\n",
       "2011        float64\n",
       "2012        float64\n",
       "2013        float64\n",
       "2014        float64\n",
       "2015        float64\n",
       "2016        float64\n",
       "2017        float64\n",
       "2018        float64\n",
       "2019        float64\n",
       "2020        float64\n",
       "2021        float64\n",
       "2022        float64\n",
       "dtype: object"
      ]
     },
     "execution_count": 132,
     "metadata": {},
     "output_type": "execute_result"
    }
   ],
   "source": [
    "df.dtypes"
   ]
  },
  {
   "cell_type": "code",
   "execution_count": 133,
   "metadata": {
    "id": "0kD9zEMJfdun"
   },
   "outputs": [],
   "source": [
    "# df.set_index('Provinsi', inplace=True)"
   ]
  },
  {
   "cell_type": "markdown",
   "metadata": {
    "id": "oJHu7tJLfdun"
   },
   "source": [
    "**1. Perkembangan indeks pembangunan manusia di Indonesia pada tahun (2013 - 2022)**"
   ]
  },
  {
   "cell_type": "code",
   "execution_count": 134,
   "metadata": {},
   "outputs": [
    {
     "name": "stdout",
     "output_type": "stream",
     "text": [
      "      Provinsi  Tahun    HDI\n",
      "0         ACEH   2010  67.09\n",
      "1         ACEH   2011  67.45\n",
      "2         ACEH   2012  67.81\n",
      "3         ACEH   2013  68.30\n",
      "4         ACEH   2014  68.81\n",
      "..         ...    ...    ...\n",
      "450  INDONESIA   2018  71.39\n",
      "451  INDONESIA   2019  71.92\n",
      "452  INDONESIA   2020  71.94\n",
      "453  INDONESIA   2021  72.29\n",
      "454  INDONESIA   2022  72.91\n",
      "\n",
      "[455 rows x 3 columns]\n"
     ]
    }
   ],
   "source": [
    "provinsi_list = []\n",
    "tahun_list = []\n",
    "hdi_list = []\n",
    "\n",
    "# Loop melalui setiap baris di data_sumber\n",
    "for index, row in df.iterrows():\n",
    "    provinsi = row['Provinsi']\n",
    "    for tahun in row.index[1:]:  # Lewati kolom 'Provinsi' dan iterasi hanya kolom tahun\n",
    "        provinsi_list.append(provinsi)  # Tambahkan nama provinsi\n",
    "        tahun_list.append(int(tahun))  # Tambahkan tahun sebagai integer\n",
    "        hdi_list.append(row[tahun])  # Tambahkan nilai umur harapan hidup (HDI)\n",
    "\n",
    "# Buat DataFrame dari list yang sudah terisi\n",
    "data_prep = pd.DataFrame({\n",
    "    'Provinsi': provinsi_list,\n",
    "    'Tahun': tahun_list,\n",
    "    'HDI': hdi_list\n",
    "})\n",
    "\n",
    "print(data_prep)"
   ]
  },
  {
   "cell_type": "code",
   "execution_count": null,
   "metadata": {},
   "outputs": [],
   "source": [
    "data_indonesia = data_prep[data_prep['Provinsi'] == 'INDONESIA']\n",
    "data_indonesia['Negara'] = data_prep[data_prep['Provinsi'] == 'INDONESIA']"
   ]
  },
  {
   "cell_type": "code",
   "execution_count": 136,
   "metadata": {
    "id": "_pynWmN1fduo"
   },
   "outputs": [
    {
     "data": {
      "image/png": "[encoded data removed]",
      "text/plain": [
       "<Figure size 640x480 with 1 Axes>"
      ]
     },
     "metadata": {},
     "output_type": "display_data"
    }
   ],
   "source": [
    "sns.lineplot(x='Tahun', y='HDI', hue='Provinsi', data=data_indonesia)\n",
    "\n",
    "# Customize plot\n",
    "plt.title('HDI di Indonesia rentang tahun (2010-2022)')\n",
    "plt.xlabel('Tahun')\n",
    "plt.ylabel('Angka HDI')\n",
    "\n",
    "# Show plot\n",
    "plt.show()"
   ]
  },
  {
   "cell_type": "markdown",
   "metadata": {
    "id": "ls47CCIgfduo"
   },
   "source": [
    "**2. Perbandingan Presentase jumlah provinsi di setiap kategori IPM pada tahun 2022 dan sebelum tahun 2022**\n",
    "\n",
    "Menurut BPS, Indeks Pembangunan Manusia dikelompokan menjadi 4 kategori yaitu:\n",
    "- IPM < 60 : IPM rendah\n",
    "- 60 IPM < 70 : IPM sedang\n",
    "- 70 IPM < 80 : IPM tinggi\n",
    "- IPM 80 : IPM sangat tinggi"
   ]
  },
  {
   "cell_type": "code",
   "execution_count": null,
   "metadata": {
    "id": "ErcnLVBIfduo"
   },
   "outputs": [],
   "source": []
  },
  {
   "cell_type": "markdown",
   "metadata": {
    "id": "UGWDmFqQfdup"
   },
   "source": [
    "**3. Indeks Pembangunan Manusia berdasarkan provinsi pada tahun 2022**"
   ]
  },
  {
   "cell_type": "code",
   "execution_count": null,
   "metadata": {
    "id": "fZBvxhgvfdup"
   },
   "outputs": [],
   "source": []
  },
  {
   "cell_type": "markdown",
   "metadata": {
    "id": "cak_NsmAfdup"
   },
   "source": [
    "**4. Perbandingan Indeks Pembangunan Manusia di daerah `Jawa Tengah`, `Jawa Barat` dan `Jawa Timur` dari tahun 2010 - 2022**"
   ]
  },
  {
   "cell_type": "code",
   "execution_count": null,
   "metadata": {
    "id": "PF241uRmfdup"
   },
   "outputs": [],
   "source": []
  },
  {
   "cell_type": "markdown",
   "metadata": {
    "id": "qcTvd0jwfdup"
   },
   "source": [
    "**5. Perbandingan Rata-Rata Indeks Pembangunan Manusia dan Harapan Lama Sekolah pada tahun 2013 - 2022**\n",
    "\n",
    "Menurut BPS, Indeks Pembangunan Manusia dibagi menjadi beberapa dimensi yaitu:\n",
    "- Umur panjang dan hidup sehat\n",
    "- Pengetahuan\n",
    "- Standar hidup layak\n",
    "\n",
    "Untuk dimensi Pengetahuan dibagi lagi menjadi beberapa komponen penilaian yaitu:\n",
    "- Rata-rata Lama Sekolah (MYS)\n",
    "-\tHarapan Lama Sekolah (HLS)\n",
    "-\tAngka Kesiapan Sekolah (AKS)\n",
    "-\tPersentase Satuan Pendidikan yang mempunyai guru yang mengajar muatan lokal bahasa daerah dan/atau seni budaya\n",
    "-\tPersentase penduduk penyandang disabilitas usia 7-18 tahun yang bersekolah\n",
    "-\tPartisipasi pendidikan penduduk usia 7-18 tahun dengan kategori 40% termisikin\n",
    "\n",
    "Untuk data HLS dapat diunduh pada link berikut:\n",
    "https://www.bps.go.id/indicator/26/417/2/-metode-baru-harapan-lama-sekolah.html\n"
   ]
  },
  {
   "cell_type": "code",
   "execution_count": null,
   "metadata": {
    "id": "IHYWrlVofduq"
   },
   "outputs": [],
   "source": []
  },
  {
   "cell_type": "markdown",
   "metadata": {
    "id": "LMAUGv7Dfduq"
   },
   "source": [
    "**6. Rata-rata Indeks Pembangunan Manusia dari setiap provinsi**"
   ]
  },
  {
   "cell_type": "code",
   "execution_count": null,
   "metadata": {
    "id": "S_pxakM0fduq"
   },
   "outputs": [],
   "source": []
  },
  {
   "cell_type": "markdown",
   "metadata": {
    "id": "OevXtwDjfduq"
   },
   "source": [
    "**7. Perbandingan rata-rata Indeks Pembangunan Manusia pada `DKI Jakarta` dan `Papua`**"
   ]
  },
  {
   "cell_type": "code",
   "execution_count": null,
   "metadata": {
    "id": "VL4zMFwSfduq"
   },
   "outputs": [],
   "source": []
  },
  {
   "cell_type": "markdown",
   "metadata": {
    "id": "wCUqz8Gvfdur"
   },
   "source": [
    "**8. Perbandingan Indeks Pembangunan Manusia antara provinsi `DKI Jakarta` dan `Papua` pada tahun 2010 - 2022**"
   ]
  },
  {
   "cell_type": "code",
   "execution_count": null,
   "metadata": {
    "id": "ui2PQuTJfdur"
   },
   "outputs": [],
   "source": []
  },
  {
   "cell_type": "markdown",
   "metadata": {
    "id": "Zz-I6VnAfdus"
   },
   "source": [
    "**9. Gabungkan grafik pada nomor 7 dan 8 menjadi 1 visualisasi**"
   ]
  },
  {
   "cell_type": "code",
   "execution_count": null,
   "metadata": {
    "id": "CdzpjGKVfdus"
   },
   "outputs": [],
   "source": []
  },
  {
   "cell_type": "markdown",
   "metadata": {
    "id": "Onpt4sO9fdus"
   },
   "source": [
    "**10. Perbandingan Indeks Pembangunan Manusia berdasarkan kategorinya pada tahun 2010 - 2022**"
   ]
  },
  {
   "cell_type": "code",
   "execution_count": null,
   "metadata": {
    "id": "NhADHF7Pfdus"
   },
   "outputs": [],
   "source": []
  }
 ],
 "metadata": {
  "colab": {
   "provenance": []
  },
  "kernelspec": {
   "display_name": "purwadhika_repo",
   "language": "python",
   "name": "python3"
  },
  "language_info": {
   "codemirror_mode": {
    "name": "ipython",
    "version": 3
   },
   "file_extension": ".py",
   "mimetype": "text/x-python",
   "name": "python",
   "nbconvert_exporter": "python",
   "pygments_lexer": "ipython3",
   "version": "3.12.7"
  }
 },
 "nbformat": 4,
 "nbformat_minor": 0
}
