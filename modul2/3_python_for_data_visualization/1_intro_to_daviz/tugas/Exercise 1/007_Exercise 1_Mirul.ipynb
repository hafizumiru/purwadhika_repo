{
 "cells": [
  {
   "cell_type": "markdown",
   "metadata": {
    "id": "5_MGIJ13NYg4"
   },
   "source": [
    "# Exercise Data Visualization Basic\n",
    "\n",
    "Source dataset: https://www.kaggle.com/dansbecker/melbourne-housing-snapshot"
   ]
  },
  {
   "cell_type": "code",
   "execution_count": 6,
   "metadata": {
    "colab": {
     "base_uri": "https://localhost:8080/"
    },
    "executionInfo": {
     "elapsed": 460,
     "status": "ok",
     "timestamp": 1701674729196,
     "user": {
      "displayName": "Median Hardiv",
      "userId": "10963418557040770419"
     },
     "user_tz": -420
    },
    "id": "bjgKpvOGNf6k",
    "outputId": "dbf9e225-9c1e-4c3b-82c4-266a6d0f8765"
   },
   "outputs": [],
   "source": [
    "import pandas as pd\n",
    "import numpy as np\n",
    "import matplotlib.pyplot as plt\n",
    "import seaborn as sns\n",
    "import folium\n",
    "import plotly.express as px\n",
    "import plotly.graph_objects as go\n",
    "\n",
    "plt.style.use('seaborn-v0_8')\n",
    "pd.set_option('display.max_columns', 500)\n",
    "\n",
    "import warnings\n",
    "warnings.filterwarnings('ignore')"
   ]
  },
  {
   "cell_type": "code",
   "execution_count": 7,
   "metadata": {
    "colab": {
     "base_uri": "https://localhost:8080/"
    },
    "executionInfo": {
     "elapsed": 18581,
     "status": "ok",
     "timestamp": 1701673383035,
     "user": {
      "displayName": "Median Hardiv",
      "userId": "10963418557040770419"
     },
     "user_tz": -420
    },
    "id": "4VclPvhYNm5E",
    "outputId": "092e7801-eca0-4658-eb50-c4a3daa26581"
   },
   "outputs": [],
   "source": [
    "# Jika ingin menjalankan notebook di Google Colab\n",
    "# from google.colab import drive\n",
    "# drive.mount('/content/drive')"
   ]
  },
  {
   "cell_type": "code",
   "execution_count": 8,
   "metadata": {
    "colab": {
     "base_uri": "https://localhost:8080/",
     "height": 1000
    },
    "executionInfo": {
     "elapsed": 2364,
     "status": "ok",
     "timestamp": 1701673385397,
     "user": {
      "displayName": "Median Hardiv",
      "userId": "10963418557040770419"
     },
     "user_tz": -420
    },
    "id": "DSpq1KItNx5P",
    "outputId": "dc6dcda6-a910-4ec6-b177-49ae9bf0a271"
   },
   "outputs": [
    {
     "data": {
      "text/html": [
       "<div>\n",
       "<style scoped>\n",
       "    .dataframe tbody tr th:only-of-type {\n",
       "        vertical-align: middle;\n",
       "    }\n",
       "\n",
       "    .dataframe tbody tr th {\n",
       "        vertical-align: top;\n",
       "    }\n",
       "\n",
       "    .dataframe thead th {\n",
       "        text-align: right;\n",
       "    }\n",
       "</style>\n",
       "<table border=\"1\" class=\"dataframe\">\n",
       "  <thead>\n",
       "    <tr style=\"text-align: right;\">\n",
       "      <th></th>\n",
       "      <th>Suburb</th>\n",
       "      <th>Address</th>\n",
       "      <th>Rooms</th>\n",
       "      <th>Type</th>\n",
       "      <th>Price</th>\n",
       "      <th>Method</th>\n",
       "      <th>SellerG</th>\n",
       "      <th>Date</th>\n",
       "      <th>Distance</th>\n",
       "      <th>Postcode</th>\n",
       "      <th>Bedroom2</th>\n",
       "      <th>Bathroom</th>\n",
       "      <th>Car</th>\n",
       "      <th>Landsize</th>\n",
       "      <th>BuildingArea</th>\n",
       "      <th>YearBuilt</th>\n",
       "      <th>CouncilArea</th>\n",
       "      <th>Lattitude</th>\n",
       "      <th>Longtitude</th>\n",
       "      <th>Regionname</th>\n",
       "      <th>Propertycount</th>\n",
       "    </tr>\n",
       "  </thead>\n",
       "  <tbody>\n",
       "    <tr>\n",
       "      <th>0</th>\n",
       "      <td>Abbotsford</td>\n",
       "      <td>85 Turner St</td>\n",
       "      <td>2</td>\n",
       "      <td>h</td>\n",
       "      <td>1480000.0</td>\n",
       "      <td>S</td>\n",
       "      <td>Biggin</td>\n",
       "      <td>3/12/2016</td>\n",
       "      <td>2.5</td>\n",
       "      <td>3067.0</td>\n",
       "      <td>2.0</td>\n",
       "      <td>1.0</td>\n",
       "      <td>1.0</td>\n",
       "      <td>202.0</td>\n",
       "      <td>NaN</td>\n",
       "      <td>NaN</td>\n",
       "      <td>Yarra</td>\n",
       "      <td>-37.79960</td>\n",
       "      <td>144.99840</td>\n",
       "      <td>Northern Metropolitan</td>\n",
       "      <td>4019.0</td>\n",
       "    </tr>\n",
       "    <tr>\n",
       "      <th>1</th>\n",
       "      <td>Abbotsford</td>\n",
       "      <td>25 Bloomburg St</td>\n",
       "      <td>2</td>\n",
       "      <td>h</td>\n",
       "      <td>1035000.0</td>\n",
       "      <td>S</td>\n",
       "      <td>Biggin</td>\n",
       "      <td>4/02/2016</td>\n",
       "      <td>2.5</td>\n",
       "      <td>3067.0</td>\n",
       "      <td>2.0</td>\n",
       "      <td>1.0</td>\n",
       "      <td>0.0</td>\n",
       "      <td>156.0</td>\n",
       "      <td>79.0</td>\n",
       "      <td>1900.0</td>\n",
       "      <td>Yarra</td>\n",
       "      <td>-37.80790</td>\n",
       "      <td>144.99340</td>\n",
       "      <td>Northern Metropolitan</td>\n",
       "      <td>4019.0</td>\n",
       "    </tr>\n",
       "    <tr>\n",
       "      <th>2</th>\n",
       "      <td>Abbotsford</td>\n",
       "      <td>5 Charles St</td>\n",
       "      <td>3</td>\n",
       "      <td>h</td>\n",
       "      <td>1465000.0</td>\n",
       "      <td>SP</td>\n",
       "      <td>Biggin</td>\n",
       "      <td>4/03/2017</td>\n",
       "      <td>2.5</td>\n",
       "      <td>3067.0</td>\n",
       "      <td>3.0</td>\n",
       "      <td>2.0</td>\n",
       "      <td>0.0</td>\n",
       "      <td>134.0</td>\n",
       "      <td>150.0</td>\n",
       "      <td>1900.0</td>\n",
       "      <td>Yarra</td>\n",
       "      <td>-37.80930</td>\n",
       "      <td>144.99440</td>\n",
       "      <td>Northern Metropolitan</td>\n",
       "      <td>4019.0</td>\n",
       "    </tr>\n",
       "    <tr>\n",
       "      <th>3</th>\n",
       "      <td>Abbotsford</td>\n",
       "      <td>40 Federation La</td>\n",
       "      <td>3</td>\n",
       "      <td>h</td>\n",
       "      <td>850000.0</td>\n",
       "      <td>PI</td>\n",
       "      <td>Biggin</td>\n",
       "      <td>4/03/2017</td>\n",
       "      <td>2.5</td>\n",
       "      <td>3067.0</td>\n",
       "      <td>3.0</td>\n",
       "      <td>2.0</td>\n",
       "      <td>1.0</td>\n",
       "      <td>94.0</td>\n",
       "      <td>NaN</td>\n",
       "      <td>NaN</td>\n",
       "      <td>Yarra</td>\n",
       "      <td>-37.79690</td>\n",
       "      <td>144.99690</td>\n",
       "      <td>Northern Metropolitan</td>\n",
       "      <td>4019.0</td>\n",
       "    </tr>\n",
       "    <tr>\n",
       "      <th>4</th>\n",
       "      <td>Abbotsford</td>\n",
       "      <td>55a Park St</td>\n",
       "      <td>4</td>\n",
       "      <td>h</td>\n",
       "      <td>1600000.0</td>\n",
       "      <td>VB</td>\n",
       "      <td>Nelson</td>\n",
       "      <td>4/06/2016</td>\n",
       "      <td>2.5</td>\n",
       "      <td>3067.0</td>\n",
       "      <td>3.0</td>\n",
       "      <td>1.0</td>\n",
       "      <td>2.0</td>\n",
       "      <td>120.0</td>\n",
       "      <td>142.0</td>\n",
       "      <td>2014.0</td>\n",
       "      <td>Yarra</td>\n",
       "      <td>-37.80720</td>\n",
       "      <td>144.99410</td>\n",
       "      <td>Northern Metropolitan</td>\n",
       "      <td>4019.0</td>\n",
       "    </tr>\n",
       "    <tr>\n",
       "      <th>...</th>\n",
       "      <td>...</td>\n",
       "      <td>...</td>\n",
       "      <td>...</td>\n",
       "      <td>...</td>\n",
       "      <td>...</td>\n",
       "      <td>...</td>\n",
       "      <td>...</td>\n",
       "      <td>...</td>\n",
       "      <td>...</td>\n",
       "      <td>...</td>\n",
       "      <td>...</td>\n",
       "      <td>...</td>\n",
       "      <td>...</td>\n",
       "      <td>...</td>\n",
       "      <td>...</td>\n",
       "      <td>...</td>\n",
       "      <td>...</td>\n",
       "      <td>...</td>\n",
       "      <td>...</td>\n",
       "      <td>...</td>\n",
       "      <td>...</td>\n",
       "    </tr>\n",
       "    <tr>\n",
       "      <th>13575</th>\n",
       "      <td>Wheelers Hill</td>\n",
       "      <td>12 Strada Cr</td>\n",
       "      <td>4</td>\n",
       "      <td>h</td>\n",
       "      <td>1245000.0</td>\n",
       "      <td>S</td>\n",
       "      <td>Barry</td>\n",
       "      <td>26/08/2017</td>\n",
       "      <td>16.7</td>\n",
       "      <td>3150.0</td>\n",
       "      <td>4.0</td>\n",
       "      <td>2.0</td>\n",
       "      <td>2.0</td>\n",
       "      <td>652.0</td>\n",
       "      <td>NaN</td>\n",
       "      <td>1981.0</td>\n",
       "      <td>NaN</td>\n",
       "      <td>-37.90562</td>\n",
       "      <td>145.16761</td>\n",
       "      <td>South-Eastern Metropolitan</td>\n",
       "      <td>7392.0</td>\n",
       "    </tr>\n",
       "    <tr>\n",
       "      <th>13576</th>\n",
       "      <td>Williamstown</td>\n",
       "      <td>77 Merrett Dr</td>\n",
       "      <td>3</td>\n",
       "      <td>h</td>\n",
       "      <td>1031000.0</td>\n",
       "      <td>SP</td>\n",
       "      <td>Williams</td>\n",
       "      <td>26/08/2017</td>\n",
       "      <td>6.8</td>\n",
       "      <td>3016.0</td>\n",
       "      <td>3.0</td>\n",
       "      <td>2.0</td>\n",
       "      <td>2.0</td>\n",
       "      <td>333.0</td>\n",
       "      <td>133.0</td>\n",
       "      <td>1995.0</td>\n",
       "      <td>NaN</td>\n",
       "      <td>-37.85927</td>\n",
       "      <td>144.87904</td>\n",
       "      <td>Western Metropolitan</td>\n",
       "      <td>6380.0</td>\n",
       "    </tr>\n",
       "    <tr>\n",
       "      <th>13577</th>\n",
       "      <td>Williamstown</td>\n",
       "      <td>83 Power St</td>\n",
       "      <td>3</td>\n",
       "      <td>h</td>\n",
       "      <td>1170000.0</td>\n",
       "      <td>S</td>\n",
       "      <td>Raine</td>\n",
       "      <td>26/08/2017</td>\n",
       "      <td>6.8</td>\n",
       "      <td>3016.0</td>\n",
       "      <td>3.0</td>\n",
       "      <td>2.0</td>\n",
       "      <td>4.0</td>\n",
       "      <td>436.0</td>\n",
       "      <td>NaN</td>\n",
       "      <td>1997.0</td>\n",
       "      <td>NaN</td>\n",
       "      <td>-37.85274</td>\n",
       "      <td>144.88738</td>\n",
       "      <td>Western Metropolitan</td>\n",
       "      <td>6380.0</td>\n",
       "    </tr>\n",
       "    <tr>\n",
       "      <th>13578</th>\n",
       "      <td>Williamstown</td>\n",
       "      <td>96 Verdon St</td>\n",
       "      <td>4</td>\n",
       "      <td>h</td>\n",
       "      <td>2500000.0</td>\n",
       "      <td>PI</td>\n",
       "      <td>Sweeney</td>\n",
       "      <td>26/08/2017</td>\n",
       "      <td>6.8</td>\n",
       "      <td>3016.0</td>\n",
       "      <td>4.0</td>\n",
       "      <td>1.0</td>\n",
       "      <td>5.0</td>\n",
       "      <td>866.0</td>\n",
       "      <td>157.0</td>\n",
       "      <td>1920.0</td>\n",
       "      <td>NaN</td>\n",
       "      <td>-37.85908</td>\n",
       "      <td>144.89299</td>\n",
       "      <td>Western Metropolitan</td>\n",
       "      <td>6380.0</td>\n",
       "    </tr>\n",
       "    <tr>\n",
       "      <th>13579</th>\n",
       "      <td>Yarraville</td>\n",
       "      <td>6 Agnes St</td>\n",
       "      <td>4</td>\n",
       "      <td>h</td>\n",
       "      <td>1285000.0</td>\n",
       "      <td>SP</td>\n",
       "      <td>Village</td>\n",
       "      <td>26/08/2017</td>\n",
       "      <td>6.3</td>\n",
       "      <td>3013.0</td>\n",
       "      <td>4.0</td>\n",
       "      <td>1.0</td>\n",
       "      <td>1.0</td>\n",
       "      <td>362.0</td>\n",
       "      <td>112.0</td>\n",
       "      <td>1920.0</td>\n",
       "      <td>NaN</td>\n",
       "      <td>-37.81188</td>\n",
       "      <td>144.88449</td>\n",
       "      <td>Western Metropolitan</td>\n",
       "      <td>6543.0</td>\n",
       "    </tr>\n",
       "  </tbody>\n",
       "</table>\n",
       "<p>13580 rows × 21 columns</p>\n",
       "</div>"
      ],
      "text/plain": [
       "              Suburb           Address  Rooms Type      Price Method  \\\n",
       "0         Abbotsford      85 Turner St      2    h  1480000.0      S   \n",
       "1         Abbotsford   25 Bloomburg St      2    h  1035000.0      S   \n",
       "2         Abbotsford      5 Charles St      3    h  1465000.0     SP   \n",
       "3         Abbotsford  40 Federation La      3    h   850000.0     PI   \n",
       "4         Abbotsford       55a Park St      4    h  1600000.0     VB   \n",
       "...              ...               ...    ...  ...        ...    ...   \n",
       "13575  Wheelers Hill      12 Strada Cr      4    h  1245000.0      S   \n",
       "13576   Williamstown     77 Merrett Dr      3    h  1031000.0     SP   \n",
       "13577   Williamstown       83 Power St      3    h  1170000.0      S   \n",
       "13578   Williamstown      96 Verdon St      4    h  2500000.0     PI   \n",
       "13579     Yarraville        6 Agnes St      4    h  1285000.0     SP   \n",
       "\n",
       "        SellerG        Date  Distance  Postcode  Bedroom2  Bathroom  Car  \\\n",
       "0        Biggin   3/12/2016       2.5    3067.0       2.0       1.0  1.0   \n",
       "1        Biggin   4/02/2016       2.5    3067.0       2.0       1.0  0.0   \n",
       "2        Biggin   4/03/2017       2.5    3067.0       3.0       2.0  0.0   \n",
       "3        Biggin   4/03/2017       2.5    3067.0       3.0       2.0  1.0   \n",
       "4        Nelson   4/06/2016       2.5    3067.0       3.0       1.0  2.0   \n",
       "...         ...         ...       ...       ...       ...       ...  ...   \n",
       "13575     Barry  26/08/2017      16.7    3150.0       4.0       2.0  2.0   \n",
       "13576  Williams  26/08/2017       6.8    3016.0       3.0       2.0  2.0   \n",
       "13577     Raine  26/08/2017       6.8    3016.0       3.0       2.0  4.0   \n",
       "13578   Sweeney  26/08/2017       6.8    3016.0       4.0       1.0  5.0   \n",
       "13579   Village  26/08/2017       6.3    3013.0       4.0       1.0  1.0   \n",
       "\n",
       "       Landsize  BuildingArea  YearBuilt CouncilArea  Lattitude  Longtitude  \\\n",
       "0         202.0           NaN        NaN       Yarra  -37.79960   144.99840   \n",
       "1         156.0          79.0     1900.0       Yarra  -37.80790   144.99340   \n",
       "2         134.0         150.0     1900.0       Yarra  -37.80930   144.99440   \n",
       "3          94.0           NaN        NaN       Yarra  -37.79690   144.99690   \n",
       "4         120.0         142.0     2014.0       Yarra  -37.80720   144.99410   \n",
       "...         ...           ...        ...         ...        ...         ...   \n",
       "13575     652.0           NaN     1981.0         NaN  -37.90562   145.16761   \n",
       "13576     333.0         133.0     1995.0         NaN  -37.85927   144.87904   \n",
       "13577     436.0           NaN     1997.0         NaN  -37.85274   144.88738   \n",
       "13578     866.0         157.0     1920.0         NaN  -37.85908   144.89299   \n",
       "13579     362.0         112.0     1920.0         NaN  -37.81188   144.88449   \n",
       "\n",
       "                       Regionname  Propertycount  \n",
       "0           Northern Metropolitan         4019.0  \n",
       "1           Northern Metropolitan         4019.0  \n",
       "2           Northern Metropolitan         4019.0  \n",
       "3           Northern Metropolitan         4019.0  \n",
       "4           Northern Metropolitan         4019.0  \n",
       "...                           ...            ...  \n",
       "13575  South-Eastern Metropolitan         7392.0  \n",
       "13576        Western Metropolitan         6380.0  \n",
       "13577        Western Metropolitan         6380.0  \n",
       "13578        Western Metropolitan         6380.0  \n",
       "13579        Western Metropolitan         6543.0  \n",
       "\n",
       "[13580 rows x 21 columns]"
      ]
     },
     "execution_count": 8,
     "metadata": {},
     "output_type": "execute_result"
    }
   ],
   "source": [
    "# Gunakan path yang sudah disediakan jika menjalankan notebook di Google Colab\n",
    "df = pd.read_csv('melb_data.csv')\n",
    "# Jika menjalankan notebook di local (Jupyter Notebook/VS Code), gunakan path sendiri sesuai dengan lokasi download file\n",
    "df"
   ]
  },
  {
   "cell_type": "markdown",
   "metadata": {},
   "source": [
    "## No. 1\n",
    "1. Buatlah Histogram untuk menampilkan distribusi data harga rumah (kolom “Price”)!\n",
    "2. Tambahkan judul “Distribusi Harga Rumah” berukuran 15!\n",
    "3. Tidak ada ketentuan pilihan warna, ukuran, dan library yang digunakan."
   ]
  },
  {
   "cell_type": "code",
   "execution_count": 9,
   "metadata": {
    "colab": {
     "base_uri": "https://localhost:8080/",
     "height": 527
    },
    "executionInfo": {
     "elapsed": 1653,
     "status": "ok",
     "timestamp": 1701674742799,
     "user": {
      "displayName": "Median Hardiv",
      "userId": "10963418557040770419"
     },
     "user_tz": -420
    },
    "id": "9kbcZvJhM3Lt",
    "outputId": "c35e97ae-6754-4e7d-f128-a0232f2f6940"
   },
   "outputs": [],
   "source": [
    "# No 1"
   ]
  },
  {
   "cell_type": "markdown",
   "metadata": {},
   "source": [
    "## No. 2\n",
    "1. Buatlah Box Plot untuk menampilkan distribusi data jarak ke CBD (kolom “Distance”)!\n",
    "2. Buatlah Box Plot “Distance” untuk tiap nama region (kolom “Regionname”)!\n",
    "3. Tambahkan judul ‘Distribusi Jarak ke CBD berdasarkan Nama Region’ berukuran 15!\n",
    "4. Tidak ada ketentuan pilihan warna, ukuran, dan library yang digunakan."
   ]
  },
  {
   "cell_type": "code",
   "execution_count": 10,
   "metadata": {
    "colab": {
     "base_uri": "https://localhost:8080/",
     "height": 527
    },
    "executionInfo": {
     "elapsed": 1417,
     "status": "ok",
     "timestamp": 1701674734740,
     "user": {
      "displayName": "Median Hardiv",
      "userId": "10963418557040770419"
     },
     "user_tz": -420
    },
    "id": "f42jVpVlqUb6",
    "outputId": "f41e1f27-64ba-4db8-a8f8-07747d30f23d"
   },
   "outputs": [],
   "source": [
    "# No 2"
   ]
  },
  {
   "cell_type": "markdown",
   "metadata": {},
   "source": [
    "## No. 3\n",
    "\n",
    "1. Buatlah Bar Plot (diagram batang) untuk membandingkan nilai median harga\n",
    "rumah (kolom “Price”) di tiap tipe rumah (kolom “Type”)!\n",
    "2. Tambahkan judul ‘Perbandingan Nilai Median Harga Rumah’ berukuran 15!\n",
    "3. Tidak ada ketentuan pilihan warna, ukuran, dan library yang digunakan."
   ]
  },
  {
   "cell_type": "code",
   "execution_count": 11,
   "metadata": {
    "colab": {
     "base_uri": "https://localhost:8080/",
     "height": 527
    },
    "executionInfo": {
     "elapsed": 1004,
     "status": "ok",
     "timestamp": 1701674966945,
     "user": {
      "displayName": "Median Hardiv",
      "userId": "10963418557040770419"
     },
     "user_tz": -420
    },
    "id": "MaeaK7SKNGsS",
    "outputId": "7cec3080-d670-4ca6-b65d-b6d008ac0038"
   },
   "outputs": [],
   "source": [
    "# No 3"
   ]
  },
  {
   "cell_type": "markdown",
   "metadata": {},
   "source": [
    "## No. 4\n",
    "\n",
    "1. Buatlah Scatter Plot (diagram titik) untuk menampilkan korelasi antara harga rumah (kolom “Price”) dengan Jarak ke CBD (kolom “Distance”)!\n",
    "2. Bedakan warna titik berdasarkan tipe rumah (kolom “Type”)!\n",
    "3. Tambahkan judul ‘Korelasi Harga Rumah dan Jarak Rumah ke CBD’ berukuran 15!\n",
    "4. Tidak ada ketentuan pilihan ukuran dan library yang digunakan."
   ]
  },
  {
   "cell_type": "code",
   "execution_count": null,
   "metadata": {},
   "outputs": [],
   "source": []
  },
  {
   "cell_type": "markdown",
   "metadata": {},
   "source": [
    "## No. 5\n",
    "\n",
    "1. Konversi kolom “Date” menjadi tipe data datetime64. Buatlah kolom baru bernama ‘Month’ hasil ekstraksi data bulan dari kolom “Date”!\n",
    "2. Buatlah Line Plot (diagram garis) untuk menampilkan tren perkembangan harga rumah (kolom “Price”) tiap bulan!\n",
    "3. Bedakan warna garis berdasarkan tipe rumah (kolom “Type”)!\n",
    "4. Tambahkan judul ‘Tren Harga Rumah per Bulan berdasarkan Tipe Rumah’ berukuran 15!\n",
    "5. Tidak ada ketentuan pilihan ukuran dan library yang digunakan."
   ]
  },
  {
   "cell_type": "code",
   "execution_count": null,
   "metadata": {},
   "outputs": [],
   "source": []
  },
  {
   "cell_type": "markdown",
   "metadata": {},
   "source": [
    "## No. 6\n",
    "\n",
    "1. Kelompokkan total luas tanah (kolom “Landsize”) berdasarkan region (kolom “Regionname”), lalu simpan ke dalam sebuah DataFrame baru!\n",
    "2. Dari DataFrame baru tersebut, buatlah Pie Chart (diagram lingkaran) untuk menampilkan proporsi total luas tanah di tiap region!\n",
    "3. Tambahkan explode agar potongan diagram seakan terpisah!\n",
    "4. Tambahkan judul ‘Proporsi Luas Tanah tiap Region’ berukuran 20!\n",
    "5. Tidak ada ketentuan pilihan warna, ukuran, dan library yang digunakan."
   ]
  },
  {
   "cell_type": "code",
   "execution_count": null,
   "metadata": {},
   "outputs": [],
   "source": []
  },
  {
   "cell_type": "markdown",
   "metadata": {},
   "source": [
    "## No. 7\n",
    "\n",
    "1. Buatlah terlebih dahulu correlation matrix yang berisi korelasi kolom “Price”, “Distance”, “Landsize”, dan “Rooms”!\n",
    "2. Dari correlation matrix ini, buatlah Correlation Heatmap untuk memvisualisasikan korelasi antar variabel!\n",
    "3. Tampilkan data korelasi di heatmap (annot = True) !\n",
    "4. Tambahkan judul ‘Heatmap Korelasi Harga, Jarak, Luas Tanah dan Jumlah Kamar’ berukuran 20!\n",
    "5. Tidak ada ketentuan pilihan warna, ukuran, dan library yang digunakan."
   ]
  },
  {
   "cell_type": "code",
   "execution_count": null,
   "metadata": {},
   "outputs": [],
   "source": []
  },
  {
   "cell_type": "markdown",
   "metadata": {},
   "source": [
    "## No. 8\n",
    "\n",
    "1. Urutkan data berdasarkan harga (kolom “Price”) dan tampilkan 10 data dari harga rumah tertinggi, kemudian simpan hasilnya ke dalam DataFrame baru!\n",
    "2. Buatlah peta Melbourne yang berlokasi di [-37.8136, 144.9631] dan zoom_start = 11!\n",
    "3. Di dalam peta Melbourne, tambahkan 10 marker sesuai lokasi 10 rumah dengan harga tertinggi!\n",
    "4. Di dalam marker, popup berisi harga rumah dan tooltip berisi alamat rumah."
   ]
  },
  {
   "cell_type": "code",
   "execution_count": null,
   "metadata": {},
   "outputs": [],
   "source": []
  }
 ],
 "metadata": {
  "colab": {
   "authorship_tag": "ABX9TyPIhAXrppyfCebzvbOz/Zee",
   "provenance": []
  },
  "kernelspec": {
   "display_name": "purwadhika_repo",
   "language": "python",
   "name": "python3"
  },
  "language_info": {
   "codemirror_mode": {
    "name": "ipython",
    "version": 3
   },
   "file_extension": ".py",
   "mimetype": "text/x-python",
   "name": "python",
   "nbconvert_exporter": "python",
   "pygments_lexer": "ipython3",
   "version": "3.12.7"
  }
 },
 "nbformat": 4,
 "nbformat_minor": 0
}
