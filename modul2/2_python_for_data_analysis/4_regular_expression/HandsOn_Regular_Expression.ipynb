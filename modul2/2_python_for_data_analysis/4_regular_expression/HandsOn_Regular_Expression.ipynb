{
 "cells": [
  {
   "cell_type": "markdown",
   "metadata": {
    "id": "AnmgcvN9IVFv"
   },
   "source": [
    "# **Module 2: Data Analysis**\n",
    "# Regex (Regeluar Expression)\n",
    "\n",
    "- Regex digunakan untuk mengekstrak sub-text dalam sebuah dokumen.\n",
    "- Segala yang berhubungan dengan pencocokan atau mencari pola di dalam text.\n",
    "\n",
    "___"
   ]
  },
  {
   "cell_type": "code",
   "execution_count": null,
   "metadata": {
    "id": "-5IWofxUIVF3"
   },
   "outputs": [],
   "source": [
    "# jika belum terinstall regex, jalankan kode di bawah ini:\n",
    "\n",
    "# !pip install regex"
   ]
  },
  {
   "cell_type": "code",
   "execution_count": 1,
   "metadata": {
    "id": "D-6Nsi6MIVF5"
   },
   "outputs": [],
   "source": [
    "import re"
   ]
  },
  {
   "cell_type": "markdown",
   "metadata": {
    "id": "9CYocORwIVF6"
   },
   "source": [
    "---\n",
    "## **1. Character Set**\n",
    "\n",
    "- Menggunakan kurung siku [ ]\n",
    "- [ ] mengindikasikan karakter yang diinginkan\n",
    "- [ ] menyediakan slot untuk 1 karakter"
   ]
  },
  {
   "cell_type": "code",
   "execution_count": null,
   "metadata": {
    "id": "e1cK8wWrIVF7",
    "outputId": "66a019b9-feda-4843-b94d-c5d0ca110e86"
   },
   "outputs": [
    {
     "data": {
      "text/plain": [
       "['g']"
      ]
     },
     "execution_count": 2,
     "metadata": {},
     "output_type": "execute_result"
    }
   ],
   "source": [
    "# re.findall(pattern, string)\n",
    "\n",
    "# mencari huruf g\n",
    "words = 'gray'\n",
    "pattern = 'g'\n",
    "\n",
    "re.findall(pattern=pattern, string=words)"
   ]
  },
  {
   "cell_type": "code",
   "execution_count": null,
   "metadata": {
    "id": "k0Rxdf67IVF8",
    "outputId": "505da594-f1d5-4546-95fe-32a0fdc7011d"
   },
   "outputs": [
    {
     "data": {
      "text/plain": [
       "['grey']"
      ]
     },
     "execution_count": 3,
     "metadata": {},
     "output_type": "execute_result"
    }
   ],
   "source": [
    "# mencari 'grey'\n",
    "words = 'gray grey griy gruy groy'\n",
    "pattern = 'grey'\n",
    "\n",
    "re.findall(pattern=pattern, string=words)"
   ]
  },
  {
   "cell_type": "code",
   "execution_count": 4,
   "metadata": {
    "id": "N4q29yKbIVF9",
    "outputId": "87539b62-e256-4a45-f081-8d7f98058e00"
   },
   "outputs": [
    {
     "data": {
      "text/plain": [
       "['groy', 'grey']"
      ]
     },
     "execution_count": 4,
     "metadata": {},
     "output_type": "execute_result"
    }
   ],
   "source": [
    "# mencari 'grey' atau 'groy'\n",
    "words = 'gray groy griy gruy grey'\n",
    "pattern = 'gr[eo]y'\n",
    "\n",
    "re.findall(pattern=pattern, string=words)\n",
    "\n",
    "# hanya match dengan kata yang karakter index 2 nya 'e' atau 'o'"
   ]
  },
  {
   "cell_type": "code",
   "execution_count": 6,
   "metadata": {
    "id": "Bwimu6-jIVF9",
    "outputId": "7962d8fa-c68d-4b35-b405-95d55203e870"
   },
   "outputs": [
    {
     "data": {
      "text/plain": [
       "['grey', 'groy', 'grey']"
      ]
     },
     "execution_count": 6,
     "metadata": {},
     "output_type": "execute_result"
    }
   ],
   "source": [
    "# mencari 'grey' atau 'groy'\n",
    "words = 'gray regreyey griy gruy groy grey1234 grEy grooy greoy'\n",
    "pattern = 'gr[eo]y'\n",
    "\n",
    "re.findall(pattern=pattern, string=words)\n",
    "\n",
    "# grey1234 --> 'grey'-nya match karena sesuai dengan pattern, walupun langsung diikuti oleh karakter lain yg bukan spasi\n",
    "# grEy     --> tidak match, karena pilihan pada character set hanya 'e' dan 'o' huruf kecil, sedangkan di sini 'E' kapital\n",
    "# grooy    --> tidak match, karena karakter index 3 harusnya huruf 'y'\n",
    "# greoy    --> tidak match, karena karakter index 3 harusnya huruf 'y'\n"
   ]
  },
  {
   "cell_type": "code",
   "execution_count": null,
   "metadata": {
    "id": "bxX2SqcPIVF-"
   },
   "outputs": [],
   "source": []
  },
  {
   "cell_type": "markdown",
   "metadata": {
    "id": "NG7riUzhIVF_"
   },
   "source": [
    "---\n",
    "## **2. Character Range**\n",
    "\n",
    "- Di character set, kita menyebutkan opsi karakternya satu per satu\n",
    "- Di character range, kita menentukan opsi karakternya berupa range\n",
    "- syntax: ...-..."
   ]
  },
  {
   "cell_type": "code",
   "execution_count": null,
   "metadata": {
    "id": "P_0oaLLyIVF_",
    "outputId": "0f35243d-3afe-4d19-f0c4-edcec0721887"
   },
   "outputs": [
    {
     "data": {
      "text/plain": [
       "['gray', 'grey', 'griy', 'gruy', 'groy', 'grey']"
      ]
     },
     "execution_count": 6,
     "metadata": {},
     "output_type": "execute_result"
    }
   ],
   "source": [
    "# mencari kata dengan 4 huruf, diawali 'g', kemudian 'r', kemudian huruf kecil apapun, kemudian diakhiri 'y'\n",
    "\n",
    "words = 'gray grey griy gruy groy grey1234 grEy grooy greoy'\n",
    "pattern = 'gr[abcdefghijklmnopqrstuvwxyz]y'  # character set: menyebutkan karakter satu per satu\n",
    "\n",
    "re.findall(pattern=pattern, string=words)"
   ]
  },
  {
   "cell_type": "code",
   "execution_count": 7,
   "metadata": {
    "id": "eMMjYCTIIVGA",
    "outputId": "d03ede52-5dc8-4ad3-83fa-2a78012afbc0"
   },
   "outputs": [
    {
     "data": {
      "text/plain": [
       "['gray', 'grey', 'griy', 'gruy', 'groy', 'grey']"
      ]
     },
     "execution_count": 7,
     "metadata": {},
     "output_type": "execute_result"
    }
   ],
   "source": [
    "# mencari kata dengan 4 huruf, diawali 'g', kemudian 'r', kemudian huruf kecil apapun, kemudian diakhiri 'y'\n",
    "\n",
    "words = 'gray grey griy gruy groy grey1234 grEy grooy greoy'\n",
    "pattern = 'gr[a-z0-9]y'  # character range\n",
    "\n",
    "re.findall(pattern=pattern, string=words)"
   ]
  },
  {
   "cell_type": "code",
   "execution_count": null,
   "metadata": {
    "id": "KJ2KbVPmIVGA",
    "outputId": "fc350ec8-93ca-4653-dff0-543244f05cae"
   },
   "outputs": [
    {
     "data": {
      "text/plain": [
       "['gray', 'grey', 'griy', 'gruy', 'groy', 'grey', 'grEy']"
      ]
     },
     "execution_count": 8,
     "metadata": {},
     "output_type": "execute_result"
    }
   ],
   "source": [
    "# mencari kata dengan 4 huruf, diawali 'g', kemudian 'r', kemudian huruf apapun (lowecase/uppercase), kemudian diakhiri 'y'\n",
    "\n",
    "words = 'gray grey griy gruy groy grey1234 grEy grooy greoy gr5y'\n",
    "pattern = 'gr[a-zA-Z]y'  # character range\n",
    "\n",
    "re.findall(pattern=pattern, string=words)"
   ]
  },
  {
   "cell_type": "code",
   "execution_count": 16,
   "metadata": {
    "id": "TV7pv4tWIVGB",
    "outputId": "d5adfa6c-c318-48a8-c3f8-c39a03022985"
   },
   "outputs": [
    {
     "data": {
      "text/plain": [
       "['gray', 'grey', 'griy', 'gruy', 'groy', 'grey', 'grEy', 'gr5y']"
      ]
     },
     "execution_count": 16,
     "metadata": {},
     "output_type": "execute_result"
    }
   ],
   "source": [
    "# mencari kata dengan 4 huruf, diawali 'g', kemudian 'r', kemudian huruf apapun (lowecase/uppercase) atau angka, kemudian diakhiri 'y'\n",
    "\n",
    "words = 'gray grey griy gruy groy grey1234 grEy grooy greoy gr5y gr,y'\n",
    "pattern = 'gr[a-zA-Z0-9]y'  # character range\n",
    "\n",
    "re.findall(pattern=pattern, string=words)"
   ]
  },
  {
   "cell_type": "code",
   "execution_count": 13,
   "metadata": {
    "id": "tFoBEbsjIVGB",
    "outputId": "16c6fabd-c0ed-41b8-bf28-df88048e5ffc"
   },
   "outputs": [
    {
     "data": {
      "text/plain": [
       "['gray',\n",
       " 'grey',\n",
       " 'griy',\n",
       " 'gruy',\n",
       " 'groy',\n",
       " 'grey',\n",
       " 'grEy',\n",
       " 'gr5y',\n",
       " 'gr.y',\n",
       " 'gr y']"
      ]
     },
     "execution_count": 13,
     "metadata": {},
     "output_type": "execute_result"
    }
   ],
   "source": [
    "# mencari kata dengan 4 huruf, diawali 'g', kemudian 'r', kemudian karakter apapun (wildcard), kemudian diakhiri 'y'\n",
    "words = 'gray grey griy gruy groy grey1234 grEy grooy greoy gr5y. gr.y gr y'\n",
    "pattern = 'gr.y'  # titik berperan sebagai wildcard\n",
    "\n",
    "re.findall(pattern=pattern, string=words)"
   ]
  },
  {
   "cell_type": "code",
   "execution_count": null,
   "metadata": {
    "id": "rESdvvJ6IVGC",
    "outputId": "25464d17-a4d1-4940-8728-3daa6886f93e"
   },
   "outputs": [
    {
     "data": {
      "text/plain": [
       "['gr.y']"
      ]
     },
     "execution_count": 10,
     "metadata": {},
     "output_type": "execute_result"
    }
   ],
   "source": [
    "# escape character dengan backslash: agar titik terbaca sebagai karakter titik itu sendiri (bukan wildcard)\n",
    "words = 'gray grey griy gruy groy grey1234 grEy grooy greoy gr5y. gr.y'\n",
    "pattern = 'gr\\.y'\n",
    "\n",
    "re.findall(pattern=pattern, string=words)"
   ]
  },
  {
   "cell_type": "code",
   "execution_count": null,
   "metadata": {
    "id": "6lyRHMEBIVGC",
    "outputId": "ed33ea66-9e86-4716-b15b-89c29d1d45f1"
   },
   "outputs": [
    {
     "data": {
      "text/plain": [
       "['grEy', 'gr5y', 'gr.y']"
      ]
     },
     "execution_count": 11,
     "metadata": {},
     "output_type": "execute_result"
    }
   ],
   "source": [
    "words = 'gray grey griy gruy groy grey1234 grEy grooy greoy gr5y. gr.y'\n",
    "pattern = 'gr[A-Z.0-9]y'  # karakter index 2 match dengan: huruf kapital atau titik atau angka\n",
    "\n",
    "re.findall(pattern=pattern, string=words)\n",
    "\n",
    "# karena titik berada di dalam bracket, maka titik terbaca sebagai karakter titik itu sendiri (bukan wildcard)"
   ]
  },
  {
   "cell_type": "code",
   "execution_count": 14,
   "metadata": {
    "id": "uLaruFXzIVGD",
    "outputId": "a9d6587b-db96-4b8a-9696-bd7c133c26cf"
   },
   "outputs": [
    {
     "name": "stderr",
     "output_type": "stream",
     "text": [
      "<>:4: SyntaxWarning: invalid escape sequence '\\s'\n",
      "<>:4: SyntaxWarning: invalid escape sequence '\\s'\n",
      "C:\\Users\\SHILIDPC\\AppData\\Local\\Temp\\ipykernel_10936\\3421045577.py:4: SyntaxWarning: invalid escape sequence '\\s'\n",
      "  pattern = '...\\s...'\n"
     ]
    },
    {
     "data": {
      "text/plain": [
       "['XRA 000', '00, 1AA', '2CD @!&', '*() plr']"
      ]
     },
     "execution_count": 14,
     "metadata": {},
     "output_type": "execute_result"
    }
   ],
   "source": [
    "# buat pattern yang match dengan: 'XRA 000' dan '1AA 2CD'\n",
    "\n",
    "words = 'XRA 000 000, 1AA 2CD @!& *() plr'\n",
    "pattern = '...\\s...'\n",
    "\n",
    "re.findall(pattern=pattern, string=words)"
   ]
  },
  {
   "cell_type": "code",
   "execution_count": 17,
   "metadata": {
    "id": "j3BmtDu-IVGE",
    "outputId": "32fcf161-6f49-48b3-fcfd-257bc1bb0bbc"
   },
   "outputs": [
    {
     "data": {
      "text/plain": [
       "['XRA 000', '1AA 2CD']"
      ]
     },
     "execution_count": 17,
     "metadata": {},
     "output_type": "execute_result"
    }
   ],
   "source": [
    "words = 'XRA 000, 1AA 2CD 1AA BCD @!& *()'\n",
    "pattern = '[A-Z0-9][A-Z]A [0-9][A-Z0-9][A-Z0-9]'\n",
    "\n",
    "re.findall(pattern=pattern, string=words)"
   ]
  },
  {
   "cell_type": "code",
   "execution_count": null,
   "metadata": {
    "id": "SzsumgTGIVGE",
    "outputId": "aacf3d4d-7d2b-4cf5-b0cd-266edb9b9541"
   },
   "outputs": [
    {
     "data": {
      "text/plain": [
       "['XRA 000', '1AA 2CD']"
      ]
     },
     "execution_count": 14,
     "metadata": {},
     "output_type": "execute_result"
    }
   ],
   "source": [
    "words = 'XRA 000, 1AA 2CD'\n",
    "pattern = '[A-Z0-9][A-Z][A-Z] [0-9][A-Z0-9][A-Z0-9]'\n",
    "\n",
    "re.findall(pattern=pattern, string=words)\n",
    "\n",
    "# karakter 0: huruf kapital atau angka\n",
    "# karakter 1: huruf kapital\n",
    "# karakter 2: huruf kapital\n",
    "# karakter 3: spasi\n",
    "# karakter 4: angka\n",
    "# karakter 5: huruf kapital atau angka\n",
    "# karakter 6: huruf kapital atau angka"
   ]
  },
  {
   "cell_type": "code",
   "execution_count": null,
   "metadata": {
    "id": "5gm7_ETKIVGF",
    "outputId": "4f7bbd9a-0257-4175-a144-28c8426e1f0b"
   },
   "outputs": [
    {
     "data": {
      "text/plain": [
       "['XRA 000', '1AA 2CD', 'XYZ 891']"
      ]
     },
     "execution_count": 15,
     "metadata": {},
     "output_type": "execute_result"
    }
   ],
   "source": [
    "words = 'XRA 000, 1AA 2CD, xyz 8910, XYZ 8910'\n",
    "pattern = '[A-Z0-9][A-Z][A-Z] [0-9][A-Z0-9][A-Z0-9]'\n",
    "\n",
    "re.findall(pattern=pattern, string=words)\n",
    "\n",
    "# xyz 8910 --> tidak match karena 'x' huruf kecil\n",
    "# XYZ 8910 --> 'XYZ 891'-nya match karena sesuai pattern yg hanya menyediakan tempat untuk 7 karakter"
   ]
  },
  {
   "cell_type": "code",
   "execution_count": null,
   "metadata": {
    "id": "wiYTW5GYIVGF",
    "outputId": "803f113e-5d89-47b9-fa8d-4702ba770a55"
   },
   "outputs": [
    {
     "data": {
      "text/plain": [
       "['bog', 'aog', 'cog', 'tog']"
      ]
     },
     "execution_count": 26,
     "metadata": {},
     "output_type": "execute_result"
    }
   ],
   "source": [
    "text = 'hog dog bog aog cog tog kog 0og 1og ^og'\n",
    "pattern = '[a-ct-z]og'\n",
    "\n",
    "re.findall(pattern=pattern, string=text)"
   ]
  },
  {
   "cell_type": "code",
   "execution_count": 28,
   "metadata": {},
   "outputs": [
    {
     "data": {
      "text/plain": [
       "['hog', 'aog', 'tog', 'kog', '^og']"
      ]
     },
     "execution_count": 28,
     "metadata": {},
     "output_type": "execute_result"
    }
   ],
   "source": [
    "text = 'hog dog bog aog cog tog kog 0og 1og ^og'\n",
    "pattern = '[^b-d0-9]og'\n",
    "\n",
    "re.findall(pattern=pattern, string=text)"
   ]
  },
  {
   "cell_type": "code",
   "execution_count": 40,
   "metadata": {
    "id": "9_v17_hW-58u",
    "outputId": "3e2730a1-d60c-4439-c101-55e910c366c6"
   },
   "outputs": [
    {
     "data": {
      "text/plain": [
       "['ooops', 'oooops', 'oooops']"
      ]
     },
     "execution_count": 40,
     "metadata": {},
     "output_type": "execute_result"
    }
   ],
   "source": [
    "words = 'ops oops ooops oooops ooooops'\n",
    "pattern = 'oooo?ps' # ops dan oops\n",
    "\n",
    "re.findall(pattern=pattern, string=words)"
   ]
  },
  {
   "cell_type": "markdown",
   "metadata": {
    "id": "cWfpeTUaIVGF"
   },
   "source": [
    "---\n",
    "## **3. Quantified Repetition**\n",
    "\n",
    "- Digunakan kalau kita ingin menentukan jumlah pengulangan yang kita inginkan\n",
    "- syntax --> {m,n}\n",
    "\n",
    "    - m: minimum (wajib diisi)\n",
    "    - n: maximum"
   ]
  },
  {
   "cell_type": "code",
   "execution_count": null,
   "metadata": {
    "id": "iiJ_Ia5bIVGG",
    "outputId": "cf5827cd-ceb2-46c5-f51c-e96f2ffbe13c"
   },
   "outputs": [
    {
     "data": {
      "text/plain": [
       "['XRA 000', '1AA 2CD']"
      ]
     },
     "execution_count": 16,
     "metadata": {},
     "output_type": "execute_result"
    }
   ],
   "source": [
    "# buat pattern yang match dengan: 'XRA 000' dan '1AA 2CD'\n",
    "\n",
    "words = 'XRA 000, 1AA 2CD'\n",
    "# pattern = '[A-Z0-9][A-Z][A-Z] [0-9][A-Z0-9][A-Z0-9]'\n",
    "pattern = '[A-Z0-9][A-Z]{2} [0-9][A-Z0-9]{2}'\n",
    "\n",
    "re.findall(pattern=pattern, string=words)"
   ]
  },
  {
   "cell_type": "code",
   "execution_count": null,
   "metadata": {
    "id": "Q9L5HjLuIVGG",
    "outputId": "3d24633b-a595-40c1-f7bd-d9f630a44980"
   },
   "outputs": [
    {
     "data": {
      "text/plain": [
       "['XRA 000', '1AA 2CD', 'XYZ 8910']"
      ]
     },
     "execution_count": 17,
     "metadata": {},
     "output_type": "execute_result"
    }
   ],
   "source": [
    "# buat pattern yang match dengan: 'XRA 000' dan '1AA 2CD' dan 'XYZ 8910'\n",
    "\n",
    "words = 'XRA 000, 1AA 2CD, xyz 8910, XYZ 8910'\n",
    "pattern = '[A-Z0-9][A-Z]{2} [0-9][A-Z0-9]{2,3}'\n",
    "\n",
    "re.findall(pattern=pattern, string=words)\n",
    "\n",
    "# perulangan hanya berlaku untuk karakter yang menempel dengan tanda kurung kurawal { }\n",
    "\n",
    "# [A-Z]{2}      --> artinya huruf kapital berulang 2 kali\n",
    "# [A-Z0-9]{2,3} --> artinya huruf kapital atau angka berulang 2 sampai 3 kali"
   ]
  },
  {
   "cell_type": "code",
   "execution_count": null,
   "metadata": {
    "id": "NsidqI4iIVGH",
    "outputId": "a92c2dba-7f0e-4b82-ffd3-bf03c6d96633"
   },
   "outputs": [
    {
     "data": {
      "text/plain": [
       "['XRA 000', '1AA 2CD', 'XYZ 8910', 'ABC 77']"
      ]
     },
     "execution_count": 18,
     "metadata": {},
     "output_type": "execute_result"
    }
   ],
   "source": [
    "words = 'XRA 000, 1AA 2CD, xyz 8910, XYZ 8910, ABC 77'\n",
    "pattern = '[A-Z0-9][A-Z]{2} [0-9][A-Z0-9]{1,3}'\n",
    "\n",
    "re.findall(pattern=pattern, string=words)\n",
    "\n",
    "# [A-Z0-9]{1,3}   --> artinya huruf kapital atau angka berulang 1 sampai 3 kali, maka dari itu ABC 77 match juga"
   ]
  },
  {
   "cell_type": "markdown",
   "metadata": {
    "id": "Ol28E4CxIVGH"
   },
   "source": [
    "B 1234 ABC\n",
    "\n",
    "huruf: kode karesidenan/kabupaten (1-2 huruf)\n",
    "spasi\n",
    "angka: 1-4 digit (mobil); 4 digit (motor)\n",
    "spasi\n",
    "huruf:  tanpa huruf\n",
    "        huruf pertama: kode kecamatan\n",
    "        huruf kedua: jenis kendaraan (minibus, sedan, dll.)\n",
    "        huruf ketiga: identifier (A-Z)\n",
    "\n",
    "testcase = '''\n",
    "RI 36\n",
    "B 46 OES\n",
    "AD 1 JKW\n",
    "L 2987\n",
    "S 3 TAN\n",
    "DS 1\n",
    "PA 1\n",
    "KB 9812 CCW\n",
    "B 1728 TAN'''"
   ]
  },
  {
   "cell_type": "code",
   "execution_count": null,
   "metadata": {},
   "outputs": [],
   "source": []
  },
  {
   "cell_type": "markdown",
   "metadata": {
    "id": "Ge6PR7RbIVGH"
   },
   "source": [
    "---\n",
    "## **4. Metacharacter**\n",
    "\n",
    "* <font color=\"yellow\">[0-9]</font> Matches a single digit\n",
    "* <font color=\"yellow\">[a-z0-9]</font> Matches a single character that must be a lower case letter or a digit.\n",
    "* <font color=\"yellow\">[A-Za-z]</font> Matches a single character that much be a upper/lower case letter\n",
    "* <font color=\"yellow\">\\d</font> Matches any decimal digit; equivalent to the set [0-9].\n",
    "* <font color=\"yellow\">\\D</font> Matches characters that are not digits, which is equivalent to [^0-9] or [^\\d].\n",
    "* <font color=\"yellow\">\\w</font> Matches any alphanumeric character, which is equivalent to [a-zA-Z0-9_].\n",
    "* <font color=\"yellow\">\\W</font> Matches any non-alphanumeric character; which is equivalent to [^a-zA-Z0-9_] or [^\\w].\n",
    "* <font color=\"yellow\">\\s</font> Matches any whitespace character; which is equivalent to [\\t\\n\\r\\f\\v], where \\t indicates taps, \\n  line feeds, \\r carriage returns, \\f form feeds and \\v vertical tabs.\n",
    "* <font color=\"yellow\">\\S</font> Matches any non-whitespace character; which is equivalent to  [^ \\t\\n\\r\\f\\v].\n",
    "* <font color=\"yellow\">ˆ</font> Matches the start of the line.\n",
    "* <font color=\"yellow\">$</font> Matches the end of the line.\n",
    "* <font color=\"yellow\">.</font> Matches any character (a wildcard).\n",
    "* <font color=\"yellow\">*</font> Matches when the preceding character occurs zero or more times\n",
    "* <font color=\"yellow\">?</font> Matches when the preceding character occurs zero or one times\n",
    "* <font color=\"yellow\">+</font> Matches when the preceding character occurs one or more times\n",
    "\n",
    "\n",
    "More information can be found here :\n",
    "https://docs.python.org/2/library/re.html\n",
    "\n"
   ]
  },
  {
   "cell_type": "code",
   "execution_count": null,
   "metadata": {},
   "outputs": [
    {
     "name": "stderr",
     "output_type": "stream",
     "text": [
      "<>:2: SyntaxWarning: invalid escape sequence '\\w'\n",
      "<>:2: SyntaxWarning: invalid escape sequence '\\w'\n",
      "C:\\Users\\SHILIDPC\\AppData\\Local\\Temp\\ipykernel_10936\\3165565281.py:2: SyntaxWarning: invalid escape sequence '\\w'\n",
      "  pattern = '\\w[\\w-]\\w'\n"
     ]
    },
    {
     "data": {
      "text/plain": [
       "['aaa', 'abc', '012', 'a-b', '_-_', '123', '201']"
      ]
     },
     "execution_count": 34,
     "metadata": {},
     "output_type": "execute_result"
    }
   ],
   "source": [
    "words = 'aaaa abcd 0123 a-b _-_ 1234 ab c a bc 2018'\n",
    "pattern = '\\w\\w-\\w'\n",
    "\n",
    "re.findall(pattern=pattern, string=words)"
   ]
  },
  {
   "cell_type": "code",
   "execution_count": null,
   "metadata": {
    "id": "7iQZKgHZIVGI",
    "outputId": "011e6b63-958d-49d0-82c9-4e39b97872ac"
   },
   "outputs": [
    {
     "data": {
      "text/plain": [
       "['XRA 000', '1AA 2CD', 'XYZ 8910', 'ABC 77']"
      ]
     },
     "execution_count": 19,
     "metadata": {},
     "output_type": "execute_result"
    }
   ],
   "source": [
    "# buat pattern yang match dengan output: 'XRA 000' dan '1AA 2CD' dan 'XYZ 8910'\n",
    "\n",
    "words = 'XRA 000, 1AA 2CD, xyz 8910, XYZ 8910, ABC 77'\n",
    "pattern = '[A-Z0-9]{3} [A-Z0-9]{2,4}'\n",
    "\n",
    "re.findall(pattern=pattern, string=words)"
   ]
  },
  {
   "cell_type": "code",
   "execution_count": null,
   "metadata": {
    "id": "4qmnTD-kIVGI",
    "outputId": "0c22c01b-3ce1-4342-cce8-ba309e91bd40"
   },
   "outputs": [
    {
     "data": {
      "text/plain": [
       "['XRA 000', '1AA 2CD', 'xyz 8910', 'XYZ 8910', 'ABC 77']"
      ]
     },
     "execution_count": 20,
     "metadata": {},
     "output_type": "execute_result"
    }
   ],
   "source": [
    "words = 'XRA 000, 1AA 2CD, xyz 8910, XYZ 8910, ABC 77'\n",
    "pattern = '\\w{3} \\w{2,4}'\n",
    "\n",
    "re.findall(pattern=pattern, string=words)\n",
    "\n",
    "# xyz 8910 --> match karena \\w termasuk: huruf kecil atau huruf kapital atau angka atau underscore"
   ]
  },
  {
   "cell_type": "code",
   "execution_count": null,
   "metadata": {
    "id": "zmCmmV-cIVGJ",
    "outputId": "0e206412-17f9-4303-a771-679603a290cd"
   },
   "outputs": [
    {
     "data": {
      "text/plain": [
       "['ABC 77']"
      ]
     },
     "execution_count": 32,
     "metadata": {},
     "output_type": "execute_result"
    }
   ],
   "source": [
    "# buat pattern yang match dengan output: 'ABC 77'\n",
    "\n",
    "words = 'XRA 000, 1AA 2CD, xyz 8910, XYZ 8910, ABC 77'\n",
    "pattern = r'\\w{3} 7{2}'\n",
    "\n",
    "re.findall(pattern=pattern, string=words)"
   ]
  },
  {
   "cell_type": "code",
   "execution_count": null,
   "metadata": {
    "id": "7zVTftuCIVGL",
    "outputId": "a0acbb03-a6f9-4099-d84c-1e0d7c0441d3"
   },
   "outputs": [
    {
     "data": {
      "text/plain": [
       "['ABC 77']"
      ]
     },
     "execution_count": 22,
     "metadata": {},
     "output_type": "execute_result"
    }
   ],
   "source": [
    "words = 'XRA 000, 1AA 2CD, xyz 8910, XYZ 8910, ABC 77'\n",
    "pattern = r'\\w{3} \\d{2}\\b'\n",
    "\n",
    "re.findall(pattern=pattern, string=words)\n",
    "\n",
    "# \\b -> word boundaries"
   ]
  },
  {
   "cell_type": "code",
   "execution_count": null,
   "metadata": {
    "id": "HE_9AVJQIVGM",
    "outputId": "e502797f-7819-4002-aed7-d81798193058"
   },
   "outputs": [
    {
     "data": {
      "text/plain": [
       "['XRA 00', 'xyz 89', 'XYZ 89', 'ABC 77']"
      ]
     },
     "execution_count": 23,
     "metadata": {},
     "output_type": "execute_result"
    }
   ],
   "source": [
    "words = 'XRA 000, 1AA 2CD, xyz 8910, XYZ 8910, ABC 77'\n",
    "pattern = '\\w{3} \\d{2}'\n",
    "\n",
    "re.findall(pattern=pattern, string=words)\n",
    "\n",
    "# \\w{3} \\d{2} artinya\n",
    "# huruf kecil atau huruf kapital atau angka atau underscore yang berulang 3 kali,\n",
    "# kemudian spasi,\n",
    "# kemudian angka 2 kali\n",
    "\n",
    "# '1AA 2C' --> tidak match karena 'C' bukan angka"
   ]
  },
  {
   "cell_type": "code",
   "execution_count": null,
   "metadata": {
    "id": "y0UkapybIVGM"
   },
   "outputs": [],
   "source": []
  },
  {
   "cell_type": "markdown",
   "metadata": {
    "id": "5gpL58HRIVGM"
   },
   "source": [
    "---\n",
    "## **5. Repetition Metacharacter**\n",
    "\n",
    "- \\* mencocokkan 0 kali atau lebih pengulangan\n",
    "- \\+ mencocokkan 1 kali atau lebih pengulangan\n",
    "- ? mencocokkan 0 kali atau 1 kali pengulangan"
   ]
  },
  {
   "cell_type": "code",
   "execution_count": null,
   "metadata": {
    "id": "PphGED6AIVGM",
    "outputId": "9f540044-d41a-4974-919b-cd5883435587"
   },
   "outputs": [
    {
     "data": {
      "text/plain": [
       "['XRA 000', ' 1', 'AA 2', ' ', 'xyz 8910', ' ', 'XYZ 8910', ' ', 'ABC 77', ' ']"
      ]
     },
     "execution_count": 24,
     "metadata": {},
     "output_type": "execute_result"
    }
   ],
   "source": [
    "words = 'XRA 000, 1AA 2CD, xyz 8910, XYZ 8910, ABC 77, xyz'\n",
    "pattern = '\\w*\\s\\d*'\n",
    "\n",
    "re.findall(pattern=pattern, string=words)\n",
    "\n",
    "# '\\w*' --> artinya huruf besar kecil atau angka atau underscore yang berulang minimal 0 kali\n",
    "# '\\s'  --> kemudian diikuti spasi atau whitespace lainnya\n",
    "# '\\d*' --> kemudian diikuti angka yang berulang minimal 0 kali"
   ]
  },
  {
   "cell_type": "code",
   "execution_count": 37,
   "metadata": {
    "id": "U0dAyaeDIVGN",
    "outputId": "957a6dcc-0db8-4203-eab0-a89a0aa942a2"
   },
   "outputs": [
    {
     "name": "stderr",
     "output_type": "stream",
     "text": [
      "<>:2: SyntaxWarning: invalid escape sequence '\\w'\n",
      "<>:2: SyntaxWarning: invalid escape sequence '\\w'\n",
      "C:\\Users\\SHILIDPC\\AppData\\Local\\Temp\\ipykernel_10936\\2559931456.py:2: SyntaxWarning: invalid escape sequence '\\w'\n",
      "  pattern = '\\w+\\s\\d+'\n"
     ]
    },
    {
     "data": {
      "text/plain": [
       "['XRA 000', '1AA 2', 'xyz 8910', 'XYZ 8910', 'ABC 77']"
      ]
     },
     "execution_count": 37,
     "metadata": {},
     "output_type": "execute_result"
    }
   ],
   "source": [
    "words = 'XRA 000, 1AA 2CD, xyz 8910, XYZ 8910, ABC 77, xyz '\n",
    "pattern = '\\w+\\s\\d+'\n",
    "\n",
    "re.findall(pattern=pattern, string=words)\n",
    "\n",
    "# '\\w+\\s\\d+' --> artinya ada spasi yang\n",
    "#                di kirinya ada huruf atau angka atau underscore yang berulang minimal 1 kali dan\n",
    "#                di kanannya ada angka yang berulang minimal 1 kali"
   ]
  },
  {
   "cell_type": "code",
   "execution_count": null,
   "metadata": {
    "id": "n59hR0pbIVGN",
    "outputId": "3e806ac9-0100-4453-8ca2-4e7534fd56d9"
   },
   "outputs": [
    {
     "data": {
      "text/plain": [
       "['XRA', '000', '1AA', '2CD', 'xyz', '8910', 'XYZ', '8910', 'ABC', '77', 'xyz']"
      ]
     },
     "execution_count": 26,
     "metadata": {},
     "output_type": "execute_result"
    }
   ],
   "source": [
    "# tampilkan tiap kata\n",
    "# output: 'XRA', '000', '1AA', '2CD', 'xyz', '8910', 'XYZ' '8910', 'ABC', '77', 'xyz'\n",
    "\n",
    "words = 'XRA 000, 1AA 2CD, xyz 8910, XYZ 8910, ABC 77, xyz'\n",
    "pattern = '\\w{2,4}'\n",
    "\n",
    "re.findall(pattern=pattern, string=words)"
   ]
  },
  {
   "cell_type": "code",
   "execution_count": null,
   "metadata": {
    "id": "VW5LbTwOIVGN",
    "outputId": "ff83bf1e-6020-4b83-ddaa-8787a08795f6"
   },
   "outputs": [
    {
     "data": {
      "text/plain": [
       "['XRA',\n",
       " '000',\n",
       " '1AA',\n",
       " '2CD',\n",
       " 'xyz',\n",
       " '8910',\n",
       " 'XYZ',\n",
       " '8910',\n",
       " 'ABC',\n",
       " '77',\n",
       " 'xyz',\n",
       " '46']"
      ]
     },
     "execution_count": 27,
     "metadata": {},
     "output_type": "execute_result"
    }
   ],
   "source": [
    "words = 'XRA 000, 1AA 2CD, xyz 8910, XYZ 8910, ABC 77, xyz, #46'\n",
    "pattern = '\\w+'\n",
    "\n",
    "re.findall(pattern=pattern, string=words)"
   ]
  },
  {
   "cell_type": "code",
   "execution_count": null,
   "metadata": {
    "id": "HQO1hnrHIVGO",
    "outputId": "62987aab-9849-4d11-a967-8bdd21ae0e87"
   },
   "outputs": [
    {
     "data": {
      "text/plain": [
       "['XRA',\n",
       " '000',\n",
       " '1AA',\n",
       " '2CD',\n",
       " 'xyz',\n",
       " '8910',\n",
       " 'XYZ',\n",
       " '8910',\n",
       " 'ABC',\n",
       " '77',\n",
       " 'xyz',\n",
       " '#46']"
      ]
     },
     "execution_count": 28,
     "metadata": {},
     "output_type": "execute_result"
    }
   ],
   "source": [
    "words = 'XRA 000, 1AA 2CD, xyz 8910, XYZ 8910, ABC 77, xyz, #46'\n",
    "pattern = '[^\\s,]+'\n",
    "\n",
    "re.findall(pattern=pattern, string=words)\n",
    "\n",
    "# [^\\s,]+  --> karakter selain spasi dan koma, yang berulang minimal 1 kali\n",
    "#              maka dari itu #46 match juga"
   ]
  },
  {
   "cell_type": "code",
   "execution_count": null,
   "metadata": {
    "id": "9Laq-iewIVGO"
   },
   "outputs": [],
   "source": []
  },
  {
   "cell_type": "markdown",
   "metadata": {
    "id": "b8Re9obLIVGO"
   },
   "source": [
    "---\n",
    "## **6. Grouping**\n",
    "\n",
    "Digunakan untuk mencari karakter yang sama persis dengan regular expression yang ada di dalam tanda kurung ( )\n",
    "\n",
    "Kegunaan:\n",
    "- Menerapkan perulangan ke dalam group/kelompok\n",
    "- Membuat regex lebih mudah dibaca"
   ]
  },
  {
   "cell_type": "code",
   "execution_count": null,
   "metadata": {
    "id": "oCc13O-gIVGO",
    "outputId": "f001d848-095a-40a2-9fc6-96f37e610a16"
   },
   "outputs": [
    {
     "data": {
      "text/plain": [
       "['abc', 'abcc', 'abccccc', 'abc', 'abc']"
      ]
     },
     "execution_count": 30,
     "metadata": {},
     "output_type": "execute_result"
    }
   ],
   "source": [
    "kalimat = 'abc abcc abccccc abcabc'\n",
    "pattern = 'abc+'\n",
    "\n",
    "re.findall(pattern=pattern, string=kalimat)\n",
    "\n",
    "#  di sini + hanya berlaku pada 'c'"
   ]
  },
  {
   "cell_type": "code",
   "execution_count": null,
   "metadata": {
    "id": "kRiF6bEGIVGP",
    "outputId": "9e0190ba-d4e2-4505-e042-ebfb1537bc84"
   },
   "outputs": [
    {
     "data": {
      "text/plain": [
       "['abc', 'abc', 'abc', 'abc']"
      ]
     },
     "execution_count": 31,
     "metadata": {},
     "output_type": "execute_result"
    }
   ],
   "source": [
    "kalimat = 'abc abcc abccccc abcabc'\n",
    "pattern = '(abc)+'\n",
    "\n",
    "re.findall(pattern=pattern, string=kalimat)\n",
    "\n",
    "#  di sini + berlaku pada 'abc'\n",
    "# mencari 'abc' yang muncul 1 kali atau lebih, tapi yang ditampilkan di output hanya 1 kali 'abc'.\n"
   ]
  },
  {
   "cell_type": "code",
   "execution_count": null,
   "metadata": {
    "id": "j3PxUNkkIVGP",
    "outputId": "aea6b499-9840-442c-aa2f-eacaa1ce2d67"
   },
   "outputs": [
    {
     "data": {
      "text/plain": [
       "['abc', 'abc', 'abc', 'abcabc']"
      ]
     },
     "execution_count": 32,
     "metadata": {},
     "output_type": "execute_result"
    }
   ],
   "source": [
    "kalimat = 'abc abcc abccccc abcabc'\n",
    "pattern = '(?:abc)+'\n",
    "\n",
    "re.findall(pattern=pattern, string=kalimat)\n",
    "\n",
    "# di sini + berlaku pada 'abc'\n",
    "# mencari 'abc' yang muncul 1 kali atau lebih, dan yang ditampilkan di output juga semua 'abc' yang berulang atau tidak."
   ]
  },
  {
   "cell_type": "code",
   "execution_count": null,
   "metadata": {
    "id": "yylIN1gQIVGP"
   },
   "outputs": [],
   "source": []
  },
  {
   "cell_type": "markdown",
   "metadata": {
    "id": "9XSmtlLMIVGQ"
   },
   "source": [
    "---\n",
    "## **7. Alternative**\n",
    "- Fungsinya mirip seperti OR di python\n",
    "- Menggunkan tanda '|'"
   ]
  },
  {
   "cell_type": "code",
   "execution_count": null,
   "metadata": {
    "id": "KlsRpL-ZIVGQ",
    "outputId": "d80a9f8b-7e74-4101-9724-9332ad02a89f"
   },
   "outputs": [
    {
     "data": {
      "text/plain": [
       "['apple juice', 'mango juice', 'watermelon juice']"
      ]
     },
     "execution_count": 33,
     "metadata": {},
     "output_type": "execute_result"
    }
   ],
   "source": [
    "# menampilkan 'apple juice' dan 'watermelon juice'\n",
    "\n",
    "kalimat = 'apple juice, mango juice, watermelon juice, apple pie'\n",
    "pattern = '\\w{5,10} juice'\n",
    "\n",
    "re.findall(pattern=pattern, string=kalimat)"
   ]
  },
  {
   "cell_type": "code",
   "execution_count": null,
   "metadata": {
    "id": "OD6mSgQmIVGQ",
    "outputId": "59b00b00-16f6-4962-9090-5a787e0a278b"
   },
   "outputs": [
    {
     "data": {
      "text/plain": [
       "['apple juice', 'watermelon juice']"
      ]
     },
     "execution_count": 34,
     "metadata": {},
     "output_type": "execute_result"
    }
   ],
   "source": [
    "# menampilkan 'apple juice' dan 'watermelon juice'\n",
    "\n",
    "kalimat = 'apple juice, mango juice, watermelon juice, apple pie'\n",
    "pattern = 'apple juice|watermelon juice'\n",
    "\n",
    "re.findall(pattern=pattern, string=kalimat)"
   ]
  },
  {
   "cell_type": "code",
   "execution_count": null,
   "metadata": {
    "id": "zK8vz9LZIVGR",
    "outputId": "3bace28a-c5a8-45b3-fe28-f733257683cc"
   },
   "outputs": [
    {
     "data": {
      "text/plain": [
       "['apple', 'watermelon']"
      ]
     },
     "execution_count": 35,
     "metadata": {},
     "output_type": "execute_result"
    }
   ],
   "source": [
    "kalimat = 'apple juice, mango juice, watermelon juice, apple pie'\n",
    "pattern = '(apple|watermelon) juice'\n",
    "\n",
    "re.findall(pattern=pattern, string=kalimat)\n",
    "\n",
    "# di sini match dengan 'apple juice' dan 'watermelon juice',\n",
    "# tapi yang ditampilkan hanya text yang ada di dalam tanda kurung"
   ]
  },
  {
   "cell_type": "code",
   "execution_count": null,
   "metadata": {
    "id": "ngngl3BHIVGR",
    "outputId": "0431b563-a73d-4db0-a784-458a53c7b2f0"
   },
   "outputs": [
    {
     "data": {
      "text/plain": [
       "['apple juice', 'watermelon juice']"
      ]
     },
     "execution_count": 36,
     "metadata": {},
     "output_type": "execute_result"
    }
   ],
   "source": [
    "kalimat = 'apple juice, mango juice, watermelon juice, apple pie'\n",
    "pattern = '(?:apple|watermelon) juice'\n",
    "\n",
    "re.findall(pattern=pattern, string=kalimat)\n",
    "\n",
    "# di sini match dengan 'apple juice' dan 'watermelon juice',\n",
    "# dan yang ditampilkan juga 'apple juice' dan 'watermelon juice' seutuhnya"
   ]
  },
  {
   "cell_type": "markdown",
   "metadata": {
    "id": "mbfrZTlkIVGR"
   },
   "source": [
    "---\n",
    "## **8. Word Boundaries**\n",
    "\n",
    "Menggunakan '\\b'"
   ]
  },
  {
   "cell_type": "code",
   "execution_count": null,
   "metadata": {
    "id": "T_4ohi2kIVGR",
    "outputId": "af58dc44-7a51-4d6b-b535-3431daf92888"
   },
   "outputs": [
    {
     "data": {
      "text/plain": [
       "['ooops', 'oooooops']"
      ]
     },
     "execution_count": 37,
     "metadata": {},
     "output_type": "execute_result"
    }
   ],
   "source": [
    "# buat pattern untuk menampilkan output: 'ooops' dan 'oooooops'\n",
    "\n",
    "kalimat = 'ini adalah ops oops ooops oooops oooooops'\n",
    "pattern = r'\\b(?:ooo)+ps'\n",
    "\n",
    "re.findall(pattern=pattern, string=kalimat)"
   ]
  },
  {
   "cell_type": "code",
   "execution_count": null,
   "metadata": {
    "id": "b3xHcVc6IVGS",
    "outputId": "ce126b13-26c0-40d1-eef4-8ddb6f614d3d"
   },
   "outputs": [
    {
     "data": {
      "text/plain": [
       "['ooops', 'oooooops']"
      ]
     },
     "execution_count": 38,
     "metadata": {},
     "output_type": "execute_result"
    }
   ],
   "source": [
    "kalimat = 'ini adalah ops oops ooops oooops oooooops'\n",
    "pattern = r'\\b(?:ooo){1,}ps'\n",
    "\n",
    "re.findall(pattern=pattern, string=kalimat)\n",
    "\n",
    "# + bisa juga ditulis dengan {1,}"
   ]
  },
  {
   "cell_type": "code",
   "execution_count": null,
   "metadata": {
    "id": "bIE8YDsMIVGS",
    "outputId": "286190fe-0741-4919-943a-26ddf30534ae"
   },
   "outputs": [
    {
     "data": {
      "text/plain": [
       "['ooops', 'oooooops']"
      ]
     },
     "execution_count": 39,
     "metadata": {},
     "output_type": "execute_result"
    }
   ],
   "source": [
    "kalimat = 'ini adalah ops oops ooops oooops oooooops'\n",
    "pattern = '\\\\b(?:ooo)+ps'\n",
    "\n",
    "re.findall(pattern=pattern, string=kalimat)"
   ]
  },
  {
   "cell_type": "markdown",
   "metadata": {
    "id": "8yCuaWEIIVGS"
   },
   "source": [
    "---\n",
    "## **9. Raw String**\n",
    "\n",
    "r' ' --> agar terbaca sebai text"
   ]
  },
  {
   "cell_type": "code",
   "execution_count": null,
   "metadata": {
    "id": "T2Vx_QbOIVGT",
    "outputId": "6d87a9ce-d4d0-4421-c6b6-09572c6d33b4"
   },
   "outputs": [
    {
     "name": "stdout",
     "output_type": "stream",
     "text": [
      "Ini adalah hello world\n"
     ]
    }
   ],
   "source": [
    "print('Ini adalah hello world')"
   ]
  },
  {
   "cell_type": "code",
   "execution_count": null,
   "metadata": {
    "id": "WnfwCAduIVGT",
    "outputId": "f018d008-02f6-43cc-bf15-abd56c2e10ae"
   },
   "outputs": [
    {
     "name": "stdout",
     "output_type": "stream",
     "text": [
      "Ini adalah hell world\n"
     ]
    }
   ],
   "source": [
    "print('Ini adalah hello\\b world')\n",
    "# \\b di python artinya adalah backspace/hapus 1 karakter"
   ]
  },
  {
   "cell_type": "code",
   "execution_count": null,
   "metadata": {
    "id": "jJpRMliXIVGT",
    "outputId": "df4c6723-eda9-4302-9246-6286d734fc93"
   },
   "outputs": [
    {
     "name": "stdout",
     "output_type": "stream",
     "text": [
      "Ini adalah hello\\b world\n"
     ]
    }
   ],
   "source": [
    "print(r'Ini adalah hello\\b world')\n",
    "# setelah ditambahkan raw string, maka \\b terbaca sebagai \\b itu sendiri"
   ]
  },
  {
   "cell_type": "code",
   "execution_count": null,
   "metadata": {
    "id": "PXegO0wRIVGT",
    "outputId": "b394db9c-a9ff-4a3f-e1d6-40eb00359cc9"
   },
   "outputs": [
    {
     "data": {
      "text/plain": [
       "[]"
      ]
     },
     "execution_count": 48,
     "metadata": {},
     "output_type": "execute_result"
    }
   ],
   "source": [
    "kalimat = 'ini adalah ops oops ooops oooops oooooops'\n",
    "pattern = '\\b(?:ooo)+ps'\n",
    "\n",
    "re.findall(pattern=pattern, string=kalimat)\n",
    "\n",
    "# di sini \\b terbaca sebagai backspace, sehingga tidak ada yg match"
   ]
  },
  {
   "cell_type": "code",
   "execution_count": null,
   "metadata": {
    "id": "pEVJFFREIVGU",
    "outputId": "a830cea2-8e54-4364-f8ca-2f56d3d0f0fa"
   },
   "outputs": [
    {
     "data": {
      "text/plain": [
       "['ooops', 'oooooops']"
      ]
     },
     "execution_count": 47,
     "metadata": {},
     "output_type": "execute_result"
    }
   ],
   "source": [
    "kalimat = 'ini adalah ops oops ooops oooops oooooops'\n",
    "pattern = r'\\b(?:ooo)+ps'\n",
    "\n",
    "re.findall(pattern=pattern, string=kalimat)\n",
    "\n",
    "# di sini \\b terbaca sebagai \\b itu sendiri, yang mana dalam regex diterjemahkan sebagai word boundaries"
   ]
  },
  {
   "cell_type": "code",
   "execution_count": null,
   "metadata": {
    "id": "vOizt8zLIVGU",
    "outputId": "4b4b45a5-e452-4000-952d-0943b6cdbc3e"
   },
   "outputs": [
    {
     "name": "stdout",
     "output_type": "stream",
     "text": [
      "\\b(?:ooo)+ps\n"
     ]
    }
   ],
   "source": [
    "print(r'\\b(?:ooo)+ps')"
   ]
  }
 ],
 "metadata": {
  "colab": {
   "provenance": []
  },
  "kernelspec": {
   "display_name": "Python 3",
   "language": "python",
   "name": "python3"
  },
  "language_info": {
   "codemirror_mode": {
    "name": "ipython",
    "version": 3
   },
   "file_extension": ".py",
   "mimetype": "text/x-python",
   "name": "python",
   "nbconvert_exporter": "python",
   "pygments_lexer": "ipython3",
   "version": "3.12.1"
  },
  "orig_nbformat": 4
 },
 "nbformat": 4,
 "nbformat_minor": 0
}
