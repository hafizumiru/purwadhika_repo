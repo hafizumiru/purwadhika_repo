{
 "cells": [
  {
   "cell_type": "code",
   "execution_count": 6,
   "metadata": {},
   "outputs": [],
   "source": [
    "import re\n",
    "\n",
    "testcase = '''\n",
    "RI 36\n",
    "B 46 OES\n",
    "AD 1 JKW\n",
    "L 2987\n",
    "S 3 TAN\n",
    "DS 1\n",
    "PA 1\n",
    "KB 9812 CCW\n",
    "B 1728 TAN'''\n",
    "\n",
    "berita = '''\n",
    "1. RI 1: Dipakai oleh Presiden Republik Indonesia2. RI 2: Dipakai oleh Wakil Presiden Republik Indonesia3. RI 3: Dipakai oleh Istri Presiden4. RI 4: Dipakai oleh Istri Wakil Presiden5. RI 5: Dipakai oleh Ketua MPR (Majelis Permusyawaratan Rakyat)6. RI 6: Dipakai oleh Ketua DPR (Dewan Perwakilan Rakyat)7. RI 7: Dipakai oleh Ketua DPD (Dewan Perwakilan Daerah)8. RI 8: Dipakai oleh Ketua MA (Mahkamah Agung)9. RI 9: Dipakai oleh Ketua MK (Mahkamah Konstitusi)10. RI 10: Dipakai oleh Ketua BPK (Badan Pemeriksa Keuangan)11. RI 11: Dipakai oleh Ketua KY (Komisi Yudisial)12. RI 12: Dipakai oleh Gubernur BI (Bank Indonesia)13. RI 13: Dipakai oleh OJK (Otoritas Jasa Keuangan)14. RI 14: Dipakai oleh Dipakai oleh Kementerian Sekretariat Negara15. RI 15: Dipakai oleh Menko Polhukam (Kementerian Koordinator Politik, Hukum dan HAM)16. RI 16: Dipakai oleh Menko Perekonomian17. RI 17: Dipakai oleh Menko Pembangunan Manusia dan Kebudayaan18. RI 18: Dipakai oleh Menko Kemaritiman19. RI 19: saat ini belum tersedia, namun dulu digunakan Menteri Hukum dan Hak Asasi Manusia20. RI 20: Dipakai oleh Kementerian Dalam Negeri21. RI 21: Dipakai oleh Kementerian Luar Negeri22. RI 22: Dipakai oleh Kementerian Pertahanan23. RI 23: Dipakai oleh Kementerian Agama24. RI 24: Dipakai oleh Kementerian Hukum dan Hak Asasi Manusia25. RI 25: Dipakai oleh Kementerian Keuangan26. RI 26: Dipakai oleh Kementerian Kebudayaan, Pendidikan Dasar dan Menengah27. RI 27: Dipakai oleh Kementerian Riset, Teknologi, dan Pendidikan Tinggi28. RI 28: Dipakai oleh Kementerian Kesehatan29. RI 29: Dipakai oleh Kementerian Sosial30. RI 30: Dipakai oleh Kementerian Ketenagakerjaan31. RI 31: Dipakai oleh Kementerian Perindustrian32. RI 32: Dipakai oleh Kementerian Perdagangan33. RI 33: Dipakai oleh Kementerian Energi dan Sumber Daya Mineral34. RI 34: Dipakai oleh Kementerian Pekerjaan Umum dan Perumahan Rakyat35. RI 35: Dipakai oleh Kementerian Perhubungan36. RI 36: Dipakai oleh Kementerian Komunikasi dan Informatika37. RI 37: Dipakai oleh Kementerian Pertanian38. RI 38: Dipakai oleh Kementerian Lingkungan Hidup dan Kehutanan39. RI 39: Dipakai oleh Kementerian Kelautan dan Perikanan40. RI 40: Dipakai oleh Kementerian Desa, Pembangunan Tertinggal, dan Transmigrasi41. RI 41: Dipakai oleh Kementerian Agraria dan Tata Ruang/Badan Pertanahan Nasional42. RI 42: Dipakai oleh Kementerian Perencanaan Pembangunan Nasional/Badan Perencanaan Pembangunan Nasional\n",
    "\n",
    "Artikel ini telah tayang di https://www.gridoto.com dengan judul \"Daftar Lengkap Pelat Nomor Pejabat RI Era Presiden Prabowo, Catat Angka Mungil Ini\".\n",
    "\n",
    "Gridoto+ baca berita tanpa iklan: https://plus.grid.id/gridoto\n",
    "\n",
    "Klik untuk baca: https://www.gridoto.com/read/224203568/daftar-lengkap-pelat-nomor-pejabat-ri-era-presiden-prabowo-catat-angka-mungil-ini\n",
    "'''"
   ]
  },
  {
   "cell_type": "code",
   "execution_count": 7,
   "metadata": {},
   "outputs": [
    {
     "data": {
      "text/plain": [
       "['RI 1',\n",
       " 'RI 2',\n",
       " 'RI 3',\n",
       " 'RI 4',\n",
       " 'RI 5',\n",
       " 'RI 6',\n",
       " 'RI 7',\n",
       " 'RI 8',\n",
       " 'RI 9',\n",
       " 'RI 10',\n",
       " 'RI 11',\n",
       " 'RI 12',\n",
       " 'RI 13',\n",
       " 'RI 14',\n",
       " 'RI 15',\n",
       " 'RI 16',\n",
       " 'RI 17',\n",
       " 'RI 18',\n",
       " 'RI 19',\n",
       " 'RI 20',\n",
       " 'RI 21',\n",
       " 'RI 22',\n",
       " 'RI 23',\n",
       " 'RI 24',\n",
       " 'RI 25',\n",
       " 'RI 26',\n",
       " 'RI 27',\n",
       " 'RI 28',\n",
       " 'RI 29',\n",
       " 'RI 30',\n",
       " 'RI 31',\n",
       " 'RI 32',\n",
       " 'RI 33',\n",
       " 'RI 34',\n",
       " 'RI 35',\n",
       " 'RI 36',\n",
       " 'RI 37',\n",
       " 'RI 38',\n",
       " 'RI 39',\n",
       " 'RI 40',\n",
       " 'RI 41',\n",
       " 'RI 42']"
      ]
     },
     "execution_count": 7,
     "metadata": {},
     "output_type": "execute_result"
    }
   ],
   "source": [
    "pattern = r\"\\w{1,2} \\d{1,4} ?\\w{0,3}\" # Write your regex here\n",
    "re.findall(pattern, berita)"
   ]
  },
  {
   "cell_type": "code",
   "execution_count": null,
   "metadata": {},
   "outputs": [],
   "source": []
  }
 ],
 "metadata": {
  "kernelspec": {
   "display_name": "Python 3",
   "language": "python",
   "name": "python3"
  },
  "language_info": {
   "codemirror_mode": {
    "name": "ipython",
    "version": 3
   },
   "file_extension": ".py",
   "mimetype": "text/x-python",
   "name": "python",
   "nbconvert_exporter": "python",
   "pygments_lexer": "ipython3",
   "version": "3.12.1"
  }
 },
 "nbformat": 4,
 "nbformat_minor": 2
}
