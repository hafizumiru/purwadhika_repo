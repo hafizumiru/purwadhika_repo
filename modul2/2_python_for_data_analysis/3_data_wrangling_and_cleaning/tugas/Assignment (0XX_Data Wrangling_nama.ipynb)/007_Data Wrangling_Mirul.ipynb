{
 "cells": [
  {
   "cell_type": "markdown",
   "metadata": {
    "cell_id": "d6d5769f5edc48068ac4bb90e1482010",
    "deepnote_cell_type": "text-cell-h2",
    "formattedRanges": [],
    "id": "lWR4k67pWnUU"
   },
   "source": [
    "## Data Wrangling & Cleansing Exercise"
   ]
  },
  {
   "cell_type": "code",
   "execution_count": 1,
   "metadata": {
    "cell_id": "84eb28f043fa43c7b4e34bef8e81a417",
    "deepnote_cell_type": "code",
    "deepnote_to_be_reexecuted": false,
    "execution_millis": 8,
    "execution_start": 1695717331420,
    "id": "RzSOcFzxWnUX",
    "source_hash": null
   },
   "outputs": [],
   "source": [
    "import pandas as pd\n",
    "import numpy as np\n",
    "import seaborn as sns"
   ]
  },
  {
   "cell_type": "markdown",
   "metadata": {
    "cell_id": "5befcf422f444ee085e230d0cef8646f",
    "deepnote_cell_type": "text-cell-h3",
    "formattedRanges": [],
    "id": "34Zp2baVWnUY"
   },
   "source": [
    "### 1. Import & Load Data"
   ]
  },
  {
   "cell_type": "markdown",
   "metadata": {
    "cell_id": "a53023bdf5724a65abe2ac1b3107fed3",
    "deepnote_cell_type": "text-cell-p",
    "formattedRanges": [],
    "id": "azaQo44yWnUY"
   },
   "source": [
    "import dan load data `mpg` dari `seaborn` lalu tampilkan 5 baris teratas"
   ]
  },
  {
   "cell_type": "code",
   "execution_count": 2,
   "metadata": {
    "cell_id": "7e0f94bb53564dfbabbe96aa669160ad",
    "deepnote_cell_type": "code",
    "deepnote_to_be_reexecuted": false,
    "execution_millis": 175,
    "execution_start": 1695717360043,
    "id": "tU170Y-EWnUY",
    "source_hash": null
   },
   "outputs": [
    {
     "data": {
      "text/html": [
       "<div>\n",
       "<style scoped>\n",
       "    .dataframe tbody tr th:only-of-type {\n",
       "        vertical-align: middle;\n",
       "    }\n",
       "\n",
       "    .dataframe tbody tr th {\n",
       "        vertical-align: top;\n",
       "    }\n",
       "\n",
       "    .dataframe thead th {\n",
       "        text-align: right;\n",
       "    }\n",
       "</style>\n",
       "<table border=\"1\" class=\"dataframe\">\n",
       "  <thead>\n",
       "    <tr style=\"text-align: right;\">\n",
       "      <th></th>\n",
       "      <th>mpg</th>\n",
       "      <th>cylinders</th>\n",
       "      <th>displacement</th>\n",
       "      <th>horsepower</th>\n",
       "      <th>weight</th>\n",
       "      <th>acceleration</th>\n",
       "      <th>model_year</th>\n",
       "      <th>origin</th>\n",
       "      <th>name</th>\n",
       "    </tr>\n",
       "  </thead>\n",
       "  <tbody>\n",
       "    <tr>\n",
       "      <th>0</th>\n",
       "      <td>18.0</td>\n",
       "      <td>8</td>\n",
       "      <td>307.0</td>\n",
       "      <td>130.0</td>\n",
       "      <td>3504</td>\n",
       "      <td>12.0</td>\n",
       "      <td>70</td>\n",
       "      <td>usa</td>\n",
       "      <td>chevrolet chevelle malibu</td>\n",
       "    </tr>\n",
       "    <tr>\n",
       "      <th>1</th>\n",
       "      <td>15.0</td>\n",
       "      <td>8</td>\n",
       "      <td>350.0</td>\n",
       "      <td>165.0</td>\n",
       "      <td>3693</td>\n",
       "      <td>11.5</td>\n",
       "      <td>70</td>\n",
       "      <td>usa</td>\n",
       "      <td>buick skylark 320</td>\n",
       "    </tr>\n",
       "    <tr>\n",
       "      <th>2</th>\n",
       "      <td>18.0</td>\n",
       "      <td>8</td>\n",
       "      <td>318.0</td>\n",
       "      <td>150.0</td>\n",
       "      <td>3436</td>\n",
       "      <td>11.0</td>\n",
       "      <td>70</td>\n",
       "      <td>usa</td>\n",
       "      <td>plymouth satellite</td>\n",
       "    </tr>\n",
       "    <tr>\n",
       "      <th>3</th>\n",
       "      <td>16.0</td>\n",
       "      <td>8</td>\n",
       "      <td>304.0</td>\n",
       "      <td>150.0</td>\n",
       "      <td>3433</td>\n",
       "      <td>12.0</td>\n",
       "      <td>70</td>\n",
       "      <td>usa</td>\n",
       "      <td>amc rebel sst</td>\n",
       "    </tr>\n",
       "    <tr>\n",
       "      <th>4</th>\n",
       "      <td>17.0</td>\n",
       "      <td>8</td>\n",
       "      <td>302.0</td>\n",
       "      <td>140.0</td>\n",
       "      <td>3449</td>\n",
       "      <td>10.5</td>\n",
       "      <td>70</td>\n",
       "      <td>usa</td>\n",
       "      <td>ford torino</td>\n",
       "    </tr>\n",
       "  </tbody>\n",
       "</table>\n",
       "</div>"
      ],
      "text/plain": [
       "    mpg  cylinders  displacement  horsepower  weight  acceleration  \\\n",
       "0  18.0          8         307.0       130.0    3504          12.0   \n",
       "1  15.0          8         350.0       165.0    3693          11.5   \n",
       "2  18.0          8         318.0       150.0    3436          11.0   \n",
       "3  16.0          8         304.0       150.0    3433          12.0   \n",
       "4  17.0          8         302.0       140.0    3449          10.5   \n",
       "\n",
       "   model_year origin                       name  \n",
       "0          70    usa  chevrolet chevelle malibu  \n",
       "1          70    usa          buick skylark 320  \n",
       "2          70    usa         plymouth satellite  \n",
       "3          70    usa              amc rebel sst  \n",
       "4          70    usa                ford torino  "
      ]
     },
     "execution_count": 2,
     "metadata": {},
     "output_type": "execute_result"
    }
   ],
   "source": [
    "mpg = sns.load_dataset('mpg')\n",
    "df = pd.DataFrame(mpg)\n",
    "df.head(5)"
   ]
  },
  {
   "cell_type": "markdown",
   "metadata": {
    "cell_id": "fa049bef82114a758a8556ddd5141a3c",
    "deepnote_cell_type": "text-cell-h3",
    "formattedRanges": [],
    "id": "YpAxwBESWnUZ"
   },
   "source": [
    "### 2.  Berapa jumlah baris dan kolom dalam DataFrame \"mpg\"? Apa tipe data dari kolom-kolom tersebut?"
   ]
  },
  {
   "cell_type": "code",
   "execution_count": 3,
   "metadata": {
    "cell_id": "d69d4c572a6d47fcbd2e7c0cc250cafc",
    "colab": {
     "base_uri": "https://localhost:8080/"
    },
    "deepnote_cell_type": "code",
    "deepnote_to_be_reexecuted": false,
    "executionInfo": {
     "elapsed": 6,
     "status": "ok",
     "timestamp": 1699599057734,
     "user": {
      "displayName": "Median Hardiv",
      "userId": "10963418557040770419"
     },
     "user_tz": -420
    },
    "execution_millis": 17,
    "execution_start": 1695717372744,
    "id": "XAjw1D8dWnUZ",
    "outputId": "dfa0178e-39b0-4e64-c8b0-9733c3546fd0",
    "source_hash": null
   },
   "outputs": [
    {
     "data": {
      "text/plain": [
       "(398, 9)"
      ]
     },
     "execution_count": 3,
     "metadata": {},
     "output_type": "execute_result"
    }
   ],
   "source": [
    "# (_baris, _kolom)\n",
    "df.shape"
   ]
  },
  {
   "cell_type": "code",
   "execution_count": 4,
   "metadata": {
    "cell_id": "20e815f51a134ffd94176515736a6ada",
    "deepnote_cell_type": "code",
    "deepnote_to_be_reexecuted": false,
    "execution_millis": 61,
    "execution_start": 1695717432628,
    "id": "pxJUcdZFWnUa",
    "outputId": "6bcfb828-62e3-4f43-8c9d-db9f75c9fb75",
    "source_hash": null
   },
   "outputs": [
    {
     "data": {
      "text/plain": [
       "mpg             float64\n",
       "cylinders         int64\n",
       "displacement    float64\n",
       "horsepower      float64\n",
       "weight            int64\n",
       "acceleration    float64\n",
       "model_year        int64\n",
       "origin           object\n",
       "name             object\n",
       "dtype: object"
      ]
     },
     "execution_count": 4,
     "metadata": {},
     "output_type": "execute_result"
    }
   ],
   "source": [
    "df.dtypes"
   ]
  },
  {
   "cell_type": "markdown",
   "metadata": {
    "cell_id": "fa96930998be4b25a615790293bcdad3",
    "deepnote_cell_type": "text-cell-h3",
    "formattedRanges": [],
    "id": "_dfWd-uZWnUa"
   },
   "source": [
    "### 3. Berapa banyak mobil yang memiliki \"mpg\" lebih dari 25?"
   ]
  },
  {
   "cell_type": "code",
   "execution_count": 5,
   "metadata": {
    "cell_id": "569eef8a1c7f441a8cec93936a219c3e",
    "colab": {
     "base_uri": "https://localhost:8080/"
    },
    "deepnote_cell_type": "code",
    "deepnote_to_be_reexecuted": false,
    "executionInfo": {
     "elapsed": 3,
     "status": "ok",
     "timestamp": 1699599083071,
     "user": {
      "displayName": "Median Hardiv",
      "userId": "10963418557040770419"
     },
     "user_tz": -420
    },
    "execution_millis": 25,
    "execution_start": 1695717579082,
    "id": "m3XZS3XAWnUa",
    "outputId": "ad0689e4-5e83-442b-be58-09f9992db3b2",
    "source_hash": null
   },
   "outputs": [
    {
     "data": {
      "text/plain": [
       "158"
      ]
     },
     "execution_count": 5,
     "metadata": {},
     "output_type": "execute_result"
    }
   ],
   "source": [
    "len(df[df['mpg'] > 25])"
   ]
  },
  {
   "cell_type": "markdown",
   "metadata": {
    "cell_id": "6b509001ead8431c8baefc9ca2d56ed8",
    "deepnote_cell_type": "text-cell-h3",
    "formattedRanges": [],
    "id": "k3G9z2XeWnUa"
   },
   "source": [
    "###  4. Berapa rata-rata \"mpg\" dan \"horsepower\" dari mobil dalam dataset?"
   ]
  },
  {
   "cell_type": "code",
   "execution_count": 6,
   "metadata": {
    "cell_id": "d6e22a32498249f393bd0a6d1914ef55",
    "deepnote_cell_type": "code",
    "deepnote_to_be_reexecuted": false,
    "execution_millis": 262,
    "execution_start": 1695717821412,
    "id": "CEwUzd3SWnUb",
    "outputId": "b293b6a3-fc2b-4a5d-e9c3-37a593ebcdbd",
    "source_hash": null
   },
   "outputs": [
    {
     "data": {
      "text/html": [
       "<div>\n",
       "<style scoped>\n",
       "    .dataframe tbody tr th:only-of-type {\n",
       "        vertical-align: middle;\n",
       "    }\n",
       "\n",
       "    .dataframe tbody tr th {\n",
       "        vertical-align: top;\n",
       "    }\n",
       "\n",
       "    .dataframe thead th {\n",
       "        text-align: right;\n",
       "    }\n",
       "</style>\n",
       "<table border=\"1\" class=\"dataframe\">\n",
       "  <thead>\n",
       "    <tr style=\"text-align: right;\">\n",
       "      <th></th>\n",
       "      <th>mpg</th>\n",
       "      <th>horsepower</th>\n",
       "    </tr>\n",
       "  </thead>\n",
       "  <tbody>\n",
       "    <tr>\n",
       "      <th>rata-rata</th>\n",
       "      <td>23.514573</td>\n",
       "      <td>104.469388</td>\n",
       "    </tr>\n",
       "  </tbody>\n",
       "</table>\n",
       "</div>"
      ],
      "text/plain": [
       "                 mpg  horsepower\n",
       "rata-rata  23.514573  104.469388"
      ]
     },
     "execution_count": 6,
     "metadata": {},
     "output_type": "execute_result"
    }
   ],
   "source": [
    "mpg_mean = df['mpg'].mean()\n",
    "horsepower_mean = df['horsepower'].mean()\n",
    "\n",
    "df_means = pd.DataFrame({\n",
    "    'mpg': [mpg_mean],\n",
    "    'horsepower': [horsepower_mean]\n",
    "}, index=['rata-rata'])\n",
    "\n",
    "df_means"
   ]
  },
  {
   "cell_type": "markdown",
   "metadata": {
    "cell_id": "61b39e346633458587f3de79a3173416",
    "deepnote_cell_type": "text-cell-h3",
    "formattedRanges": [],
    "id": "nFJVVX4BWnUb"
   },
   "source": [
    "### 5. Berapa jumlah mobil dalam setiap kelompok berdasarkan negara asal (\"origin\")?"
   ]
  },
  {
   "cell_type": "code",
   "execution_count": 7,
   "metadata": {
    "cell_id": "74b214ba68bd460f8eca11e0b68b77cb",
    "colab": {
     "base_uri": "https://localhost:8080/",
     "height": 174
    },
    "deepnote_cell_type": "code",
    "deepnote_to_be_reexecuted": false,
    "executionInfo": {
     "elapsed": 326,
     "status": "ok",
     "timestamp": 1699599911340,
     "user": {
      "displayName": "Median Hardiv",
      "userId": "10963418557040770419"
     },
     "user_tz": -420
    },
    "execution_millis": 281,
    "execution_start": 1695717930073,
    "id": "vkukkfu7WnUb",
    "outputId": "26752619-41ce-445b-99eb-eb58c1577d0d",
    "source_hash": null
   },
   "outputs": [
    {
     "data": {
      "text/plain": [
       "origin\n",
       "usa       249\n",
       "japan      79\n",
       "europe     70\n",
       "Name: count, dtype: int64"
      ]
     },
     "execution_count": 7,
     "metadata": {},
     "output_type": "execute_result"
    }
   ],
   "source": [
    "df['origin'].value_counts()"
   ]
  },
  {
   "cell_type": "markdown",
   "metadata": {
    "cell_id": "ec6726b20b664748ac998add9b24a03e",
    "deepnote_cell_type": "text-cell-h3",
    "formattedRanges": [],
    "id": "UaTdoCtDWnUb"
   },
   "source": [
    "###  6. Apa nama mobil-mobil dengan \"mpg\" antara 20 dan 25?"
   ]
  },
  {
   "cell_type": "code",
   "execution_count": 8,
   "metadata": {
    "cell_id": "302c237032884a3ab90efc9669311b4a",
    "colab": {
     "base_uri": "https://localhost:8080/"
    },
    "deepnote_cell_type": "code",
    "deepnote_to_be_reexecuted": false,
    "executionInfo": {
     "elapsed": 413,
     "status": "ok",
     "timestamp": 1699600986445,
     "user": {
      "displayName": "Median Hardiv",
      "userId": "10963418557040770419"
     },
     "user_tz": -420
    },
    "execution_millis": 128,
    "execution_start": 1695718075697,
    "id": "1-_AJjcgWnUb",
    "outputId": "1b9b40de-d066-464a-f7f7-897d06c3e576",
    "source_hash": null
   },
   "outputs": [
    {
     "data": {
      "text/plain": [
       "0     toyota corona mark ii\n",
       "1           plymouth duster\n",
       "2             ford maverick\n",
       "3               peugeot 504\n",
       "4               audi 100 ls\n",
       "              ...          \n",
       "84          ford granada gl\n",
       "85     ford fairmont futura\n",
       "86           amc concord dl\n",
       "87    buick century limited\n",
       "88           ford granada l\n",
       "Name: name, Length: 89, dtype: object"
      ]
     },
     "execution_count": 8,
     "metadata": {},
     "output_type": "execute_result"
    }
   ],
   "source": [
    "df[(df['mpg'] >= 20) & (df['mpg'] <= 25)]['name'].reset_index(drop=True)"
   ]
  },
  {
   "cell_type": "markdown",
   "metadata": {
    "cell_id": "7d109dfcb4b04eb7b2b4faf0de8285c7",
    "deepnote_cell_type": "text-cell-h3",
    "formattedRanges": [],
    "id": "PruOSItXWnUb"
   },
   "source": [
    "### 7. Tampilkan 3 mobil dengan akselerasi tertinggi?"
   ]
  },
  {
   "cell_type": "code",
   "execution_count": 9,
   "metadata": {
    "cell_id": "e099e2d2530d483cba2765d6f65368eb",
    "colab": {
     "base_uri": "https://localhost:8080/",
     "height": 143
    },
    "deepnote_cell_type": "code",
    "deepnote_to_be_reexecuted": false,
    "executionInfo": {
     "elapsed": 312,
     "status": "ok",
     "timestamp": 1699601236399,
     "user": {
      "displayName": "Median Hardiv",
      "userId": "10963418557040770419"
     },
     "user_tz": -420
    },
    "execution_millis": 232,
    "execution_start": 1695718241172,
    "id": "9XDtfcTZWnUb",
    "outputId": "1bbac31b-8f66-40f7-eb85-33cfff889e8a",
    "source_hash": null
   },
   "outputs": [
    {
     "data": {
      "text/html": [
       "<div>\n",
       "<style scoped>\n",
       "    .dataframe tbody tr th:only-of-type {\n",
       "        vertical-align: middle;\n",
       "    }\n",
       "\n",
       "    .dataframe tbody tr th {\n",
       "        vertical-align: top;\n",
       "    }\n",
       "\n",
       "    .dataframe thead th {\n",
       "        text-align: right;\n",
       "    }\n",
       "</style>\n",
       "<table border=\"1\" class=\"dataframe\">\n",
       "  <thead>\n",
       "    <tr style=\"text-align: right;\">\n",
       "      <th></th>\n",
       "      <th>mpg</th>\n",
       "      <th>cylinders</th>\n",
       "      <th>displacement</th>\n",
       "      <th>horsepower</th>\n",
       "      <th>weight</th>\n",
       "      <th>acceleration</th>\n",
       "      <th>model_year</th>\n",
       "      <th>origin</th>\n",
       "      <th>name</th>\n",
       "    </tr>\n",
       "  </thead>\n",
       "  <tbody>\n",
       "    <tr>\n",
       "      <th>299</th>\n",
       "      <td>27.2</td>\n",
       "      <td>4</td>\n",
       "      <td>141.0</td>\n",
       "      <td>71.0</td>\n",
       "      <td>3190</td>\n",
       "      <td>24.8</td>\n",
       "      <td>79</td>\n",
       "      <td>europe</td>\n",
       "      <td>peugeot 504</td>\n",
       "    </tr>\n",
       "    <tr>\n",
       "      <th>394</th>\n",
       "      <td>44.0</td>\n",
       "      <td>4</td>\n",
       "      <td>97.0</td>\n",
       "      <td>52.0</td>\n",
       "      <td>2130</td>\n",
       "      <td>24.6</td>\n",
       "      <td>82</td>\n",
       "      <td>europe</td>\n",
       "      <td>vw pickup</td>\n",
       "    </tr>\n",
       "    <tr>\n",
       "      <th>326</th>\n",
       "      <td>43.4</td>\n",
       "      <td>4</td>\n",
       "      <td>90.0</td>\n",
       "      <td>48.0</td>\n",
       "      <td>2335</td>\n",
       "      <td>23.7</td>\n",
       "      <td>80</td>\n",
       "      <td>europe</td>\n",
       "      <td>vw dasher (diesel)</td>\n",
       "    </tr>\n",
       "  </tbody>\n",
       "</table>\n",
       "</div>"
      ],
      "text/plain": [
       "      mpg  cylinders  displacement  horsepower  weight  acceleration  \\\n",
       "299  27.2          4         141.0        71.0    3190          24.8   \n",
       "394  44.0          4          97.0        52.0    2130          24.6   \n",
       "326  43.4          4          90.0        48.0    2335          23.7   \n",
       "\n",
       "     model_year  origin                name  \n",
       "299          79  europe         peugeot 504  \n",
       "394          82  europe           vw pickup  \n",
       "326          80  europe  vw dasher (diesel)  "
      ]
     },
     "execution_count": 9,
     "metadata": {},
     "output_type": "execute_result"
    }
   ],
   "source": [
    "df.sort_values('acceleration', ascending=False).head(3)"
   ]
  },
  {
   "cell_type": "markdown",
   "metadata": {
    "cell_id": "a97b9fe6ed1d4bcc97863b86f0c8bff4",
    "deepnote_cell_type": "text-cell-h3",
    "formattedRanges": [
     {
      "fromCodePoint": 36,
      "marks": {
       "code": true,
       "color": "#D33800"
      },
      "toCodePoint": 39,
      "type": "marks"
     },
     {
      "fromCodePoint": 69,
      "marks": {
       "code": true,
       "color": "#D33800"
      },
      "toCodePoint": 72,
      "type": "marks"
     },
     {
      "fromCodePoint": 118,
      "marks": {
       "code": true,
       "color": "#D33800"
      },
      "toCodePoint": 121,
      "type": "marks"
     }
    ],
    "id": "2cq6EjENWnUb"
   },
   "source": [
    "### 8. Tambahkan kolom baru dengan nama kpl yang merupakan konversi dari mpg menjadi kilometer per liter (1 mpg = 0.42514 kpl)"
   ]
  },
  {
   "cell_type": "code",
   "execution_count": 10,
   "metadata": {
    "cell_id": "40e117e1ceb445bd8947014623be8901",
    "colab": {
     "base_uri": "https://localhost:8080/",
     "height": 423
    },
    "deepnote_cell_type": "code",
    "deepnote_to_be_reexecuted": false,
    "executionInfo": {
     "elapsed": 273,
     "status": "ok",
     "timestamp": 1699601511414,
     "user": {
      "displayName": "Median Hardiv",
      "userId": "10963418557040770419"
     },
     "user_tz": -420
    },
    "execution_millis": 189,
    "execution_start": 1695718298748,
    "id": "KuGtUERpWnUb",
    "outputId": "fa36ffec-2d8e-41bc-cf0b-d6c73213a206",
    "source_hash": null
   },
   "outputs": [
    {
     "data": {
      "text/html": [
       "<div>\n",
       "<style scoped>\n",
       "    .dataframe tbody tr th:only-of-type {\n",
       "        vertical-align: middle;\n",
       "    }\n",
       "\n",
       "    .dataframe tbody tr th {\n",
       "        vertical-align: top;\n",
       "    }\n",
       "\n",
       "    .dataframe thead th {\n",
       "        text-align: right;\n",
       "    }\n",
       "</style>\n",
       "<table border=\"1\" class=\"dataframe\">\n",
       "  <thead>\n",
       "    <tr style=\"text-align: right;\">\n",
       "      <th></th>\n",
       "      <th>mpg</th>\n",
       "      <th>kpl</th>\n",
       "    </tr>\n",
       "  </thead>\n",
       "  <tbody>\n",
       "    <tr>\n",
       "      <th>0</th>\n",
       "      <td>18.0</td>\n",
       "      <td>7.83252</td>\n",
       "    </tr>\n",
       "    <tr>\n",
       "      <th>1</th>\n",
       "      <td>15.0</td>\n",
       "      <td>6.52710</td>\n",
       "    </tr>\n",
       "    <tr>\n",
       "      <th>2</th>\n",
       "      <td>18.0</td>\n",
       "      <td>7.83252</td>\n",
       "    </tr>\n",
       "    <tr>\n",
       "      <th>3</th>\n",
       "      <td>16.0</td>\n",
       "      <td>6.96224</td>\n",
       "    </tr>\n",
       "    <tr>\n",
       "      <th>4</th>\n",
       "      <td>17.0</td>\n",
       "      <td>7.39738</td>\n",
       "    </tr>\n",
       "    <tr>\n",
       "      <th>...</th>\n",
       "      <td>...</td>\n",
       "      <td>...</td>\n",
       "    </tr>\n",
       "    <tr>\n",
       "      <th>393</th>\n",
       "      <td>27.0</td>\n",
       "      <td>11.74878</td>\n",
       "    </tr>\n",
       "    <tr>\n",
       "      <th>394</th>\n",
       "      <td>44.0</td>\n",
       "      <td>19.14616</td>\n",
       "    </tr>\n",
       "    <tr>\n",
       "      <th>395</th>\n",
       "      <td>32.0</td>\n",
       "      <td>13.92448</td>\n",
       "    </tr>\n",
       "    <tr>\n",
       "      <th>396</th>\n",
       "      <td>28.0</td>\n",
       "      <td>12.18392</td>\n",
       "    </tr>\n",
       "    <tr>\n",
       "      <th>397</th>\n",
       "      <td>31.0</td>\n",
       "      <td>13.48934</td>\n",
       "    </tr>\n",
       "  </tbody>\n",
       "</table>\n",
       "<p>398 rows × 2 columns</p>\n",
       "</div>"
      ],
      "text/plain": [
       "      mpg       kpl\n",
       "0    18.0   7.83252\n",
       "1    15.0   6.52710\n",
       "2    18.0   7.83252\n",
       "3    16.0   6.96224\n",
       "4    17.0   7.39738\n",
       "..    ...       ...\n",
       "393  27.0  11.74878\n",
       "394  44.0  19.14616\n",
       "395  32.0  13.92448\n",
       "396  28.0  12.18392\n",
       "397  31.0  13.48934\n",
       "\n",
       "[398 rows x 2 columns]"
      ]
     },
     "execution_count": 10,
     "metadata": {},
     "output_type": "execute_result"
    }
   ],
   "source": [
    "df['kpl'] = df['mpg'] * 0.43514\n",
    "df[['mpg','kpl']]"
   ]
  },
  {
   "cell_type": "markdown",
   "metadata": {
    "cell_id": "f958f9491e6443cfb1c2f1f2582e048a",
    "deepnote_cell_type": "text-cell-h3",
    "formattedRanges": [],
    "id": "YlWCn1aBWnUb"
   },
   "source": [
    "###  9. Bagaimana \"mpg\" rata-rata berubah dari tahun ke tahun?"
   ]
  },
  {
   "cell_type": "code",
   "execution_count": 11,
   "metadata": {
    "cell_id": "6394a3e9941e429eb1edb1318be5ed20",
    "colab": {
     "base_uri": "https://localhost:8080/"
    },
    "deepnote_cell_type": "code",
    "deepnote_to_be_reexecuted": false,
    "executionInfo": {
     "elapsed": 284,
     "status": "ok",
     "timestamp": 1699603052516,
     "user": {
      "displayName": "Median Hardiv",
      "userId": "10963418557040770419"
     },
     "user_tz": -420
    },
    "execution_millis": 133,
    "execution_start": 1695718452591,
    "id": "myjGVYjJWnUc",
    "outputId": "27250a8c-f559-4897-93bf-46d0ccdc1ae4",
    "source_hash": null
   },
   "outputs": [
    {
     "data": {
      "text/html": [
       "<div>\n",
       "<style scoped>\n",
       "    .dataframe tbody tr th:only-of-type {\n",
       "        vertical-align: middle;\n",
       "    }\n",
       "\n",
       "    .dataframe tbody tr th {\n",
       "        vertical-align: top;\n",
       "    }\n",
       "\n",
       "    .dataframe thead th {\n",
       "        text-align: right;\n",
       "    }\n",
       "</style>\n",
       "<table border=\"1\" class=\"dataframe\">\n",
       "  <thead>\n",
       "    <tr style=\"text-align: right;\">\n",
       "      <th></th>\n",
       "      <th>mpg</th>\n",
       "      <th>difference</th>\n",
       "    </tr>\n",
       "    <tr>\n",
       "      <th>model_year</th>\n",
       "      <th></th>\n",
       "      <th></th>\n",
       "    </tr>\n",
       "  </thead>\n",
       "  <tbody>\n",
       "    <tr>\n",
       "      <th>70</th>\n",
       "      <td>17.689655</td>\n",
       "      <td>NaN</td>\n",
       "    </tr>\n",
       "    <tr>\n",
       "      <th>71</th>\n",
       "      <td>21.250000</td>\n",
       "      <td>3.560345</td>\n",
       "    </tr>\n",
       "    <tr>\n",
       "      <th>72</th>\n",
       "      <td>18.714286</td>\n",
       "      <td>-2.535714</td>\n",
       "    </tr>\n",
       "    <tr>\n",
       "      <th>73</th>\n",
       "      <td>17.100000</td>\n",
       "      <td>-1.614286</td>\n",
       "    </tr>\n",
       "    <tr>\n",
       "      <th>74</th>\n",
       "      <td>22.703704</td>\n",
       "      <td>5.603704</td>\n",
       "    </tr>\n",
       "    <tr>\n",
       "      <th>75</th>\n",
       "      <td>20.266667</td>\n",
       "      <td>-2.437037</td>\n",
       "    </tr>\n",
       "    <tr>\n",
       "      <th>76</th>\n",
       "      <td>21.573529</td>\n",
       "      <td>1.306863</td>\n",
       "    </tr>\n",
       "    <tr>\n",
       "      <th>77</th>\n",
       "      <td>23.375000</td>\n",
       "      <td>1.801471</td>\n",
       "    </tr>\n",
       "    <tr>\n",
       "      <th>78</th>\n",
       "      <td>24.061111</td>\n",
       "      <td>0.686111</td>\n",
       "    </tr>\n",
       "    <tr>\n",
       "      <th>79</th>\n",
       "      <td>25.093103</td>\n",
       "      <td>1.031992</td>\n",
       "    </tr>\n",
       "    <tr>\n",
       "      <th>80</th>\n",
       "      <td>33.696552</td>\n",
       "      <td>8.603448</td>\n",
       "    </tr>\n",
       "    <tr>\n",
       "      <th>81</th>\n",
       "      <td>30.334483</td>\n",
       "      <td>-3.362069</td>\n",
       "    </tr>\n",
       "    <tr>\n",
       "      <th>82</th>\n",
       "      <td>31.709677</td>\n",
       "      <td>1.375195</td>\n",
       "    </tr>\n",
       "  </tbody>\n",
       "</table>\n",
       "</div>"
      ],
      "text/plain": [
       "                  mpg  difference\n",
       "model_year                       \n",
       "70          17.689655         NaN\n",
       "71          21.250000    3.560345\n",
       "72          18.714286   -2.535714\n",
       "73          17.100000   -1.614286\n",
       "74          22.703704    5.603704\n",
       "75          20.266667   -2.437037\n",
       "76          21.573529    1.306863\n",
       "77          23.375000    1.801471\n",
       "78          24.061111    0.686111\n",
       "79          25.093103    1.031992\n",
       "80          33.696552    8.603448\n",
       "81          30.334483   -3.362069\n",
       "82          31.709677    1.375195"
      ]
     },
     "execution_count": 11,
     "metadata": {},
     "output_type": "execute_result"
    }
   ],
   "source": [
    "df_rata2 = pd.DataFrame(df.groupby('model_year')['mpg'].mean())\n",
    "df_rata2['difference'] = df_rata2['mpg'].diff()\n",
    "df_rata2"
   ]
  },
  {
   "cell_type": "markdown",
   "metadata": {
    "cell_id": "45432e68bdb845d4ad575b4a5770b4c7",
    "deepnote_cell_type": "text-cell-h3",
    "formattedRanges": [],
    "id": "r6odWHOsWnUc"
   },
   "source": [
    "### 10. Temukan mobil dengan konsumsi bahan bakar (\"mpg\") tertinggi, dan tampilkan informasi lengkapnya."
   ]
  },
  {
   "cell_type": "code",
   "execution_count": 12,
   "metadata": {
    "cell_id": "65e16733e25f47a98e121a7b7b648d4c",
    "colab": {
     "base_uri": "https://localhost:8080/",
     "height": 80
    },
    "deepnote_cell_type": "code",
    "deepnote_to_be_reexecuted": false,
    "executionInfo": {
     "elapsed": 324,
     "status": "ok",
     "timestamp": 1699603185052,
     "user": {
      "displayName": "Median Hardiv",
      "userId": "10963418557040770419"
     },
     "user_tz": -420
    },
    "execution_millis": 21,
    "execution_start": 1695718706926,
    "id": "Af_6TBBUWnUc",
    "outputId": "3f126b81-4d55-4d99-efed-9bab891db009",
    "source_hash": null
   },
   "outputs": [
    {
     "data": {
      "text/html": [
       "<div>\n",
       "<style scoped>\n",
       "    .dataframe tbody tr th:only-of-type {\n",
       "        vertical-align: middle;\n",
       "    }\n",
       "\n",
       "    .dataframe tbody tr th {\n",
       "        vertical-align: top;\n",
       "    }\n",
       "\n",
       "    .dataframe thead th {\n",
       "        text-align: right;\n",
       "    }\n",
       "</style>\n",
       "<table border=\"1\" class=\"dataframe\">\n",
       "  <thead>\n",
       "    <tr style=\"text-align: right;\">\n",
       "      <th></th>\n",
       "      <th>mpg</th>\n",
       "      <th>cylinders</th>\n",
       "      <th>displacement</th>\n",
       "      <th>horsepower</th>\n",
       "      <th>weight</th>\n",
       "      <th>acceleration</th>\n",
       "      <th>model_year</th>\n",
       "      <th>origin</th>\n",
       "      <th>name</th>\n",
       "      <th>kpl</th>\n",
       "    </tr>\n",
       "  </thead>\n",
       "  <tbody>\n",
       "    <tr>\n",
       "      <th>322</th>\n",
       "      <td>46.6</td>\n",
       "      <td>4</td>\n",
       "      <td>86.0</td>\n",
       "      <td>65.0</td>\n",
       "      <td>2110</td>\n",
       "      <td>17.9</td>\n",
       "      <td>80</td>\n",
       "      <td>japan</td>\n",
       "      <td>mazda glc</td>\n",
       "      <td>20.277524</td>\n",
       "    </tr>\n",
       "  </tbody>\n",
       "</table>\n",
       "</div>"
      ],
      "text/plain": [
       "      mpg  cylinders  displacement  horsepower  weight  acceleration  \\\n",
       "322  46.6          4          86.0        65.0    2110          17.9   \n",
       "\n",
       "     model_year origin       name        kpl  \n",
       "322          80  japan  mazda glc  20.277524  "
      ]
     },
     "execution_count": 12,
     "metadata": {},
     "output_type": "execute_result"
    }
   ],
   "source": [
    "df.sort_values(by=\"mpg\", ascending=False).head(1)"
   ]
  },
  {
   "cell_type": "code",
   "execution_count": 13,
   "metadata": {},
   "outputs": [
    {
     "data": {
      "text/plain": [
       "mpg                  46.6\n",
       "cylinders               4\n",
       "displacement         86.0\n",
       "horsepower           65.0\n",
       "weight               2110\n",
       "acceleration         17.9\n",
       "model_year             80\n",
       "origin              japan\n",
       "name            mazda glc\n",
       "kpl             20.277524\n",
       "Name: 322, dtype: object"
      ]
     },
     "execution_count": 13,
     "metadata": {},
     "output_type": "execute_result"
    }
   ],
   "source": [
    "df.sort_values(by = 'mpg', ascending = False).iloc[0]"
   ]
  },
  {
   "cell_type": "markdown",
   "metadata": {
    "cell_id": "3cd54e468d7748c8ae467fc21d22c7c6",
    "deepnote_cell_type": "text-cell-h3",
    "formattedRanges": [],
    "id": "EVRNK44OWnUc"
   },
   "source": [
    "###  11. Temukan mobil dengan kombinasi performa terbaik, yaitu memiliki \"horsepower\" tinggi, \"mpg\" tinggi, dan \"acceleration\" rendah. Tampilkan informasi lengkapnya."
   ]
  },
  {
   "cell_type": "code",
   "execution_count": 14,
   "metadata": {
    "cell_id": "6e4d82b0554a44dba89fb59bee7a2c81",
    "deepnote_cell_type": "code",
    "deepnote_to_be_reexecuted": false,
    "execution_millis": 191,
    "execution_start": 1695718811990,
    "id": "V12QrI4YWnUc",
    "outputId": "d8735baa-98be-4e52-bc25-cf841a0fdcb6",
    "source_hash": null
   },
   "outputs": [
    {
     "data": {
      "text/plain": [
       "mpg                           16.0\n",
       "cylinders                        8\n",
       "displacement                 400.0\n",
       "horsepower                   230.0\n",
       "weight                        4278\n",
       "acceleration                   9.5\n",
       "model_year                      73\n",
       "origin                         usa\n",
       "name            pontiac grand prix\n",
       "kpl                        6.96224\n",
       "Name: 116, dtype: object"
      ]
     },
     "execution_count": 14,
     "metadata": {},
     "output_type": "execute_result"
    }
   ],
   "source": [
    "df.sort_values(by = [ 'horsepower', 'mpg', 'acceleration'], ascending = [False, False, True]).head(1)\n",
    "df.sort_values(by = [ 'horsepower', 'mpg', 'acceleration'], ascending = [False, False, True]).iloc[0]"
   ]
  },
  {
   "cell_type": "markdown",
   "metadata": {
    "cell_id": "00ba984b83f548cbb713ef86cfe20212",
    "deepnote_cell_type": "text-cell-h3",
    "formattedRanges": [],
    "id": "MwB6gXPDWnUc"
   },
   "source": [
    "### 12. Periksa apakah ada nilai yang hilang (missing values) dalam DataFrame \"mpg\", dan jika ada, tangani secara sesuai (misalnya, isi dengan nilai rata-rata)."
   ]
  },
  {
   "cell_type": "code",
   "execution_count": 15,
   "metadata": {
    "cell_id": "e70ec972e3ff4a0e9d89d8d05c4d0e63",
    "colab": {
     "base_uri": "https://localhost:8080/"
    },
    "deepnote_cell_type": "code",
    "executionInfo": {
     "elapsed": 373,
     "status": "ok",
     "timestamp": 1699605700184,
     "user": {
      "displayName": "Median Hardiv",
      "userId": "10963418557040770419"
     },
     "user_tz": -420
    },
    "id": "C_lp84DOWnUc",
    "outputId": "1954dc10-d1a9-4305-b36e-cc3de4b37823"
   },
   "outputs": [
    {
     "data": {
      "text/plain": [
       "mpg             0\n",
       "cylinders       0\n",
       "displacement    0\n",
       "horsepower      6\n",
       "weight          0\n",
       "acceleration    0\n",
       "model_year      0\n",
       "origin          0\n",
       "name            0\n",
       "kpl             0\n",
       "dtype: int64"
      ]
     },
     "execution_count": 15,
     "metadata": {},
     "output_type": "execute_result"
    }
   ],
   "source": [
    "df.isnull().sum()"
   ]
  },
  {
   "cell_type": "code",
   "execution_count": 16,
   "metadata": {
    "colab": {
     "base_uri": "https://localhost:8080/",
     "height": 237
    },
    "executionInfo": {
     "elapsed": 272,
     "status": "ok",
     "timestamp": 1699605709356,
     "user": {
      "displayName": "Median Hardiv",
      "userId": "10963418557040770419"
     },
     "user_tz": -420
    },
    "id": "8OvAfFkwYkyc",
    "outputId": "8af32ad8-05ed-408d-d1e2-1ceffd19a601"
   },
   "outputs": [],
   "source": [
    "horse_power_fillna = pd.DataFrame(df['horsepower'].fillna(df['horsepower'].mean()))"
   ]
  },
  {
   "cell_type": "code",
   "execution_count": 17,
   "metadata": {},
   "outputs": [
    {
     "data": {
      "text/plain": [
       "horsepower    0\n",
       "dtype: int64"
      ]
     },
     "execution_count": 17,
     "metadata": {},
     "output_type": "execute_result"
    }
   ],
   "source": [
    "horse_power_fillna.isnull().sum()"
   ]
  },
  {
   "cell_type": "markdown",
   "metadata": {
    "cell_id": "dacf96609d5d46c8b09a43c5d7caf7df",
    "deepnote_cell_type": "text-cell-h3",
    "formattedRanges": [],
    "id": "K4Ga_qXiWnUc"
   },
   "source": [
    "### 13. Mobil apa saja yang memiliki konsumsi bahan bakar tertinggi di setiap negara asal?"
   ]
  },
  {
   "cell_type": "code",
   "execution_count": 18,
   "metadata": {
    "id": "0sicW8p56vrX",
    "outputId": "2453dc50-a1c6-42d4-e7b6-361d5dd7bbf0"
   },
   "outputs": [
    {
     "data": {
      "text/html": [
       "<div>\n",
       "<style scoped>\n",
       "    .dataframe tbody tr th:only-of-type {\n",
       "        vertical-align: middle;\n",
       "    }\n",
       "\n",
       "    .dataframe tbody tr th {\n",
       "        vertical-align: top;\n",
       "    }\n",
       "\n",
       "    .dataframe thead th {\n",
       "        text-align: right;\n",
       "    }\n",
       "</style>\n",
       "<table border=\"1\" class=\"dataframe\">\n",
       "  <thead>\n",
       "    <tr style=\"text-align: right;\">\n",
       "      <th></th>\n",
       "      <th>name</th>\n",
       "      <th>mpg</th>\n",
       "    </tr>\n",
       "    <tr>\n",
       "      <th>origin</th>\n",
       "      <th></th>\n",
       "      <th></th>\n",
       "    </tr>\n",
       "  </thead>\n",
       "  <tbody>\n",
       "    <tr>\n",
       "      <th>europe</th>\n",
       "      <td>audi 100 ls</td>\n",
       "      <td>16.2</td>\n",
       "    </tr>\n",
       "    <tr>\n",
       "      <th>japan</th>\n",
       "      <td>datsun 1200</td>\n",
       "      <td>18.0</td>\n",
       "    </tr>\n",
       "    <tr>\n",
       "      <th>usa</th>\n",
       "      <td>amc ambassador brougham</td>\n",
       "      <td>9.0</td>\n",
       "    </tr>\n",
       "  </tbody>\n",
       "</table>\n",
       "</div>"
      ],
      "text/plain": [
       "                           name   mpg\n",
       "origin                               \n",
       "europe              audi 100 ls  16.2\n",
       "japan               datsun 1200  18.0\n",
       "usa     amc ambassador brougham   9.0"
      ]
     },
     "execution_count": 18,
     "metadata": {},
     "output_type": "execute_result"
    }
   ],
   "source": [
    "mpg.groupby('origin')[['name', 'mpg']].min()"
   ]
  },
  {
   "cell_type": "code",
   "execution_count": 19,
   "metadata": {},
   "outputs": [
    {
     "data": {
      "text/html": [
       "<div>\n",
       "<style scoped>\n",
       "    .dataframe tbody tr th:only-of-type {\n",
       "        vertical-align: middle;\n",
       "    }\n",
       "\n",
       "    .dataframe tbody tr th {\n",
       "        vertical-align: top;\n",
       "    }\n",
       "\n",
       "    .dataframe thead th {\n",
       "        text-align: right;\n",
       "    }\n",
       "</style>\n",
       "<table border=\"1\" class=\"dataframe\">\n",
       "  <thead>\n",
       "    <tr style=\"text-align: right;\">\n",
       "      <th></th>\n",
       "      <th>mpg</th>\n",
       "      <th>cylinders</th>\n",
       "      <th>displacement</th>\n",
       "      <th>horsepower</th>\n",
       "      <th>weight</th>\n",
       "      <th>acceleration</th>\n",
       "      <th>model_year</th>\n",
       "      <th>origin</th>\n",
       "      <th>name</th>\n",
       "    </tr>\n",
       "  </thead>\n",
       "  <tbody>\n",
       "    <tr>\n",
       "      <th>277</th>\n",
       "      <td>16.2</td>\n",
       "      <td>6</td>\n",
       "      <td>163.0</td>\n",
       "      <td>133.0</td>\n",
       "      <td>3410</td>\n",
       "      <td>15.8</td>\n",
       "      <td>78</td>\n",
       "      <td>europe</td>\n",
       "      <td>peugeot 604sl</td>\n",
       "    </tr>\n",
       "    <tr>\n",
       "      <th>111</th>\n",
       "      <td>18.0</td>\n",
       "      <td>3</td>\n",
       "      <td>70.0</td>\n",
       "      <td>90.0</td>\n",
       "      <td>2124</td>\n",
       "      <td>13.5</td>\n",
       "      <td>73</td>\n",
       "      <td>japan</td>\n",
       "      <td>maxda rx3</td>\n",
       "    </tr>\n",
       "    <tr>\n",
       "      <th>28</th>\n",
       "      <td>9.0</td>\n",
       "      <td>8</td>\n",
       "      <td>304.0</td>\n",
       "      <td>193.0</td>\n",
       "      <td>4732</td>\n",
       "      <td>18.5</td>\n",
       "      <td>70</td>\n",
       "      <td>usa</td>\n",
       "      <td>hi 1200d</td>\n",
       "    </tr>\n",
       "  </tbody>\n",
       "</table>\n",
       "</div>"
      ],
      "text/plain": [
       "      mpg  cylinders  displacement  horsepower  weight  acceleration  \\\n",
       "277  16.2          6         163.0       133.0    3410          15.8   \n",
       "111  18.0          3          70.0        90.0    2124          13.5   \n",
       "28    9.0          8         304.0       193.0    4732          18.5   \n",
       "\n",
       "     model_year  origin           name  \n",
       "277          78  europe  peugeot 604sl  \n",
       "111          73   japan      maxda rx3  \n",
       "28           70     usa       hi 1200d  "
      ]
     },
     "execution_count": 19,
     "metadata": {},
     "output_type": "execute_result"
    }
   ],
   "source": [
    "mpg.loc[mpg.groupby('origin')['mpg'].idxmin()]"
   ]
  }
 ],
 "metadata": {
  "colab": {
   "provenance": []
  },
  "deepnote": {},
  "deepnote_execution_queue": [],
  "deepnote_notebook_id": "fa7e3b7ec87a4e5c81aece95d6ce8a53",
  "deepnote_persisted_session": {
   "createdAt": "2023-09-26T09:17:00.603Z"
  },
  "kernelspec": {
   "display_name": "purwadhika_repo",
   "language": "python",
   "name": "python3"
  },
  "language_info": {
   "codemirror_mode": {
    "name": "ipython",
    "version": 3
   },
   "file_extension": ".py",
   "mimetype": "text/x-python",
   "name": "python",
   "nbconvert_exporter": "python",
   "pygments_lexer": "ipython3",
   "version": "3.12.7"
  },
  "orig_nbformat": 2
 },
 "nbformat": 4,
 "nbformat_minor": 0
}
