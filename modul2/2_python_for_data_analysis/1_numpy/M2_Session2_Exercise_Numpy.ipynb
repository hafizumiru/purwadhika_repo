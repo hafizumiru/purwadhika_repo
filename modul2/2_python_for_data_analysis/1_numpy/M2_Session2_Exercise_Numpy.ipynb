{
 "cells": [
  {
   "cell_type": "markdown",
   "metadata": {
    "id": "Xh_ZokmxiJQT"
   },
   "source": [
    "**<title>Numpy Exercise 1</title>**\n",
    "\n",
    "**<h1>Numpy Exercise</h1>**\n",
    "\n",
    "<hr>\n",
    "\n",
    "*numpy documentation: https://numpy.org/doc/stable/"
   ]
  },
  {
   "cell_type": "code",
   "execution_count": 1,
   "metadata": {
    "id": "aFXsVkIYiJQW"
   },
   "outputs": [],
   "source": [
    "# Import library\n",
    "import numpy as np\n",
    "\n",
    "# Agar saat generate bilangan random hasilnya konsisten\n",
    "np.random.seed(0)"
   ]
  },
  {
   "cell_type": "markdown",
   "metadata": {
    "id": "jmCeLUFdiJQW"
   },
   "source": [
    "## **No.1**\n",
    "\n",
    "Buatlah sebuah array 1 dimensi (vektor) yang diisi dengan 36 elemen. Isi dari array\n",
    "tersebut adalah bilangan random yang dibangkitkan dari rentang nilai 1 hingga 100.\n",
    "Simpan array tersebut dalam sebuah variable bernama myArray, kemudian coba\n",
    "tampilkan!"
   ]
  },
  {
   "cell_type": "code",
   "execution_count": null,
   "metadata": {
    "id": "Vsni-cAziJQW"
   },
   "outputs": [],
   "source": []
  },
  {
   "cell_type": "markdown",
   "metadata": {
    "id": "lyRwDBMBiJQX"
   },
   "source": [
    "## **No.2**\n",
    "\n",
    "Dari myArray, bentuklah 3 array dengan bentuk yang berbeda (mengganti dimensi\n",
    "matriksnya) dengan kombinasi ukuran yang berbeda beda!\n",
    "- Matriks berukuran 2x18\n",
    "- Matriks berukuran 9x4\n",
    "- Array 3 Dimensi berukuran 2x6x3"
   ]
  },
  {
   "cell_type": "code",
   "execution_count": null,
   "metadata": {
    "id": "EQJdKUKBiJQX"
   },
   "outputs": [],
   "source": []
  },
  {
   "cell_type": "markdown",
   "metadata": {
    "id": "QCBDWwoLiJQX"
   },
   "source": [
    "## **No.3**\n",
    "\n",
    "Berapakah nilai minimun dan maksimum dari myArray? Tampilkan dan coba perlihatkan\n",
    "nilai maksimum dan minimum tersebut ada pada indeks keberapa!"
   ]
  },
  {
   "cell_type": "code",
   "execution_count": null,
   "metadata": {
    "id": "rEui3eqMiJQX"
   },
   "outputs": [],
   "source": []
  },
  {
   "cell_type": "markdown",
   "metadata": {
    "id": "YOk4QkXQiJQX"
   },
   "source": [
    "## **No.4**\n",
    "\n",
    "Buatlah sebuah array baru dari myArray dengan data yang diambil berasal dari index 3,\n",
    "5, 30, 12, 15, 8, 24, 14, 22. Setelah itu, reshape bentuknya menjadi sebuah matrix\n",
    "ukuran 3x3!"
   ]
  },
  {
   "cell_type": "code",
   "execution_count": null,
   "metadata": {
    "id": "bgpr9JHeiJQX"
   },
   "outputs": [],
   "source": []
  },
  {
   "cell_type": "markdown",
   "metadata": {
    "id": "npAWn8-OiJQX"
   },
   "source": [
    "## **No.5**\n",
    "Dari matrix yang dibuat pada nomor 4, tampilkan data yang nilainya lebih besar dari 50!"
   ]
  },
  {
   "cell_type": "code",
   "execution_count": null,
   "metadata": {
    "id": "c8QAGFktiJQX"
   },
   "outputs": [],
   "source": []
  },
  {
   "cell_type": "markdown",
   "metadata": {
    "id": "RIFk2VWNiJQX"
   },
   "source": [
    "## **No.6**\n",
    "Buat sebuah array menggunkan salah satu method di numpy dengan output seperti di\n",
    "bawah ini! <br>\n",
    "`array([  0,  25,  50,  75, 100])`"
   ]
  },
  {
   "cell_type": "code",
   "execution_count": null,
   "metadata": {
    "id": "dET9bQ8KiJQX"
   },
   "outputs": [],
   "source": []
  },
  {
   "cell_type": "markdown",
   "metadata": {
    "id": "YeREXHNyiJQX"
   },
   "source": [
    "## **No.7**\n",
    "Buatlah sebuah array 2 dimensi dengan ukuran NxN di mana N nya adalah sebuah\n",
    "inputan. Isi dari array tersebut seluruhnya adalah angka 8!"
   ]
  },
  {
   "cell_type": "code",
   "execution_count": null,
   "metadata": {
    "colab": {
     "base_uri": "https://localhost:8080/"
    },
    "id": "r_sGM5FBiJQX",
    "outputId": "9bfc7bf1-77b0-45a8-a30b-40eae77bf9b2"
   },
   "outputs": [
    {
     "name": "stdout",
     "output_type": "stream",
     "text": [
      "tentukan nilai N5\n",
      "[[8, 8, 8, 8, 8], [8, 8, 8, 8, 8], [8, 8, 8, 8, 8], [8, 8, 8, 8, 8], [8, 8, 8, 8, 8]]\n"
     ]
    }
   ],
   "source": []
  },
  {
   "cell_type": "markdown",
   "metadata": {
    "id": "IRnycf7yiJQX"
   },
   "source": [
    "## **No.8**\n",
    "\n",
    "- Buatlah 2 buah array 2 dimensi seperti gambar di bawah ini, lalu simpan dalam variabel\n",
    "bernama arrayA dan arrayB!<br>\n",
    "\n",
    "```\n",
    "arrayA\n",
    "array([[ 1,  2,  3,  4]\n",
    "       [ 5,  6,  7,  8]\n",
    "       [ 9, 10, 11, 12]])\n",
    "```\n",
    "\n",
    "```\n",
    "arrayB\n",
    "array([[100],\n",
    "       [200],\n",
    "       [300],\n",
    "       [400]])\n",
    "```\n",
    "\n",
    "\n",
    "- Buatlah sebuah array yang berasal dari gabungan arrayA dan arrayB seperti gambar di\n",
    "bawah ini, simpan dalam variabel bernama arrayC!\n",
    "\n",
    "```\n",
    "array([[  1,   2,   3,   4],\n",
    "       [  5,   6,   7,   8],\n",
    "       [  9,  10,  11,  12],\n",
    "       [100, 200, 300, 400]])\n",
    "```"
   ]
  },
  {
   "cell_type": "code",
   "execution_count": null,
   "metadata": {
    "id": "5pJjrEO2iJQY"
   },
   "outputs": [],
   "source": []
  },
  {
   "cell_type": "markdown",
   "metadata": {
    "id": "DPGsZewUiJQY"
   },
   "source": [
    "## **No.9**\n",
    "\n",
    "Dari arrayC, lakukan slicing agar menghasilkan array di bawah ini!\n",
    "```\n",
    "array([[ 7,  8],\n",
    "       [11, 12]])\n",
    "```\n"
   ]
  },
  {
   "cell_type": "code",
   "execution_count": null,
   "metadata": {
    "id": "JiFgx0wRiJQY"
   },
   "outputs": [],
   "source": []
  },
  {
   "cell_type": "markdown",
   "metadata": {
    "id": "E-e3MrVFiJQY"
   },
   "source": [
    "## **No.10**\n",
    "Dari arrayC, lakukan indexing untuk mendapatkan angka 200!"
   ]
  },
  {
   "cell_type": "code",
   "execution_count": null,
   "metadata": {
    "id": "oJ6C3GRciJQY"
   },
   "outputs": [],
   "source": []
  },
  {
   "cell_type": "markdown",
   "metadata": {
    "id": "246j-4wziJQY"
   },
   "source": [
    "## **No. 11**\n",
    "Dari 2 array berikut, tampilkan index yang nilainya sama antara array a dan b."
   ]
  },
  {
   "cell_type": "code",
   "execution_count": null,
   "metadata": {
    "id": "hBOmvpnMiJQY"
   },
   "outputs": [],
   "source": [
    "a = np.array([1, 2, 3, 2, 3, 4, 3, 4, 5, 6])\n",
    "b = np.array([7, 2, 10, 2, 7, 4, 9, 4, 9, 8])\n",
    "\n",
    "# Output:\n",
    "# array([1, 3, 5, 7])"
   ]
  },
  {
   "cell_type": "markdown",
   "metadata": {
    "id": "JAPy3LkwiJQY"
   },
   "source": [
    "## **No. 12**"
   ]
  },
  {
   "cell_type": "markdown",
   "metadata": {
    "id": "i-zGzgoviJQY"
   },
   "source": [
    "Dari array berikut, tampilkan nilai yang range-nya antara 5 dan 10!"
   ]
  },
  {
   "cell_type": "code",
   "execution_count": null,
   "metadata": {
    "id": "j11vAA5TiJQY"
   },
   "outputs": [],
   "source": [
    "x = np.array([2, 6, 1, 9, 10, 3, 27])\n",
    "\n",
    "# Output:\n",
    "# array([6, 9, 10])"
   ]
  },
  {
   "cell_type": "markdown",
   "metadata": {
    "id": "8wnRd_GXiJQY"
   },
   "source": [
    "## **No. 13**\n",
    "\n",
    "Jika kode berikut dijalankan --> arr = np.arange(9).reshape(3, 3) <br>\n",
    "outputnya adalah:\n",
    "```\n",
    "array([[0, 1, 2],\n",
    "        [3, 4, 5],\n",
    "        [6, 7, 8]])\n",
    "```\n",
    "Bagaimana mengubah output di atas menjadi seperti berikut?\n",
    "```\n",
    " array([[1, 0, 2],\n",
    "        [4, 3, 5],\n",
    "        [7, 6, 8]])\n",
    "```"
   ]
  },
  {
   "cell_type": "code",
   "execution_count": null,
   "metadata": {
    "id": "ql-GSLhJiJQY",
    "outputId": "7decb494-5dbd-4f21-c8ba-ab8f363d2bae"
   },
   "outputs": [
    {
     "data": {
      "text/plain": [
       "array([[0, 1, 2],\n",
       "       [3, 4, 5],\n",
       "       [6, 7, 8]])"
      ]
     },
     "execution_count": 2,
     "metadata": {},
     "output_type": "execute_result"
    }
   ],
   "source": [
    "arr = np.arange(9).reshape(3, 3)\n",
    "arr"
   ]
  },
  {
   "cell_type": "code",
   "execution_count": null,
   "metadata": {
    "id": "NchwG3Xj5k3R"
   },
   "outputs": [],
   "source": []
  },
  {
   "cell_type": "markdown",
   "metadata": {
    "id": "tMIoAA_kiJQZ"
   },
   "source": [
    "## **No. 14**\n",
    "\n",
    "Jika kode berikut dijalankan --> arr = np.arange(9).reshape(3, 3)<br>\n",
    "outputnya adalah: <br>\n",
    "```\n",
    "array([[0, 1, 2],\n",
    "       [3, 4, 5],\n",
    "       [6, 7, 8]])\n",
    "```\n",
    "\n",
    "Bagaimana mengubah output di atas menjadi seperti berikut?<br>\n",
    "Output: <br>\n",
    "```\n",
    "array([[3, 4, 5],\n",
    "       [0, 1, 2],\n",
    "       [6, 7, 8]])\n",
    "```"
   ]
  },
  {
   "cell_type": "code",
   "execution_count": null,
   "metadata": {
    "id": "CWM2hiTTiJQZ"
   },
   "outputs": [],
   "source": []
  },
  {
   "cell_type": "markdown",
   "metadata": {
    "id": "d71lF6mxiJQZ"
   },
   "source": [
    "## **No. 15**\n",
    "\n",
    "15. Jika kode berikut dijalankan --> arr = np.arange(9).reshape(3, 3)<br>\n",
    "outputnya adalah:\n",
    "```\n",
    "array([[0, 1, 2],\n",
    "       [3, 4, 5],\n",
    "       [6, 7, 8]])\n",
    "```\n",
    "\n",
    "Bagaimana mengubah output di atas menjadi seperti berikut?<br>\n",
    "\n",
    "Output:<br>\n",
    "```\n",
    "array([[2, 1, 0],\n",
    "       [5, 4, 3],\n",
    "       [8, 7, 6]])\n",
    "```"
   ]
  },
  {
   "cell_type": "code",
   "execution_count": null,
   "metadata": {
    "id": "Q3UNTMv5iJQZ"
   },
   "outputs": [],
   "source": []
  },
  {
   "cell_type": "markdown",
   "metadata": {},
   "source": [
    "## **No. 16**\n",
    "\n",
    "Perhatikan array multidimensi berikut.<br>\n",
    "```\n",
    "arr_1 = np.array([\n",
    "    [7, 8, 9, 4, 3],\n",
    "    [5, 6, 2, 1, 0],\n",
    "    [3, 8, 4, 7, 2],\n",
    "    [9, 3, 5, 6, 1],\n",
    "    [0, 1, 2, 8, 4]\n",
    "])\n",
    "```\n",
    "Modifikasi lah array di atas sehingga menjadi dua buah matriks baru, matriks diagonal dan matriks segitiga atas.\n",
    "\n",
    "Output\n",
    "```\n",
    "[[7 0 0 0 0]\n",
    " [0 6 0 0 0]\n",
    " [0 0 4 0 0]\n",
    " [0 0 0 6 0]\n",
    " [0 0 0 0 4]]\n",
    "\n",
    "[[7 8 9 4 3]\n",
    " [0 6 2 1 0]\n",
    " [0 0 4 7 2]\n",
    " [0 0 0 6 1]\n",
    " [0 0 0 0 4]]\n",
    " ```"
   ]
  },
  {
   "cell_type": "code",
   "execution_count": null,
   "metadata": {},
   "outputs": [],
   "source": []
  },
  {
   "cell_type": "markdown",
   "metadata": {},
   "source": [
    "## **No. 17**\n",
    "\n",
    "Terdapat beberapa *array* multidimensi sebagai berikut.\n",
    "```\n",
    "A = np.array([[7, 8, 5, 3], [2, 9, 4, 6], [3, 7, 1, 8], [5, 2, 6, 4]])\n",
    "B = np.array([[3, 6, 8, 2], [4, 5, 7, 1], [9, 2, 3, 6], [1, 7, 5, 8]])\n",
    "C = np.array([[5, 9, 3, 7], [1, 6, 4, 2], [8, 3, 5, 1], [2, 7, 9, 4]])\n",
    "D = np.array([[6, 3, 5, 8], [2, 7, 9, 4], [1, 8, 6, 2], [5, 4, 3, 7]])\n",
    "```\n",
    "Dari keempat multidimensi array di atas, lakukanlah langkah-langkah berikut ini.\n",
    "1. Cari absolute dari pengurangan antara A dan C yang kemudian dijumlahi hasil pengurangan B dan D\n",
    "2. Buat matrix baru yang isinya adalah hasil kuadrat tiap elemen dari matrix pada langkah 1\n",
    "3. Jalankan operasi invers pada matrix pada langkah 2\n",
    "4. Terapkan operasi penjumlahan antara matrix pada langkah 3 dengan matriks C\n",
    "5. Jalankan perkalian skalar pada matrix D dengan hasil pada langkah 4\n",
    "*hint*: anda dapat menggunakan fungsi `sqrt()`\n",
    "\n",
    "Secara matematis, langkah di atas dapat dituliskan sebagai berikut.\n",
    "1. $V = |A - C + (B - D)|$\n",
    "2. $W = V^{2}$\n",
    "3. $X = W^{-1}$\n",
    "4. $Y = X + C$\n",
    "5. $result = Y*D$\n",
    "\n",
    "Print multidimensi array dari ```result```\n",
    "\n",
    "note: untuk perkalian matrix gunakan operasi *\n",
    "\n",
    "Output\n",
    "```\n",
    "[[30.18326693 27.41434263 14.86968792 55.68791501]\n",
    " [ 2.00885347 41.83576804 35.9497012   9.02810978]\n",
    " [ 7.92297477 23.53253652 30.38346614  2.05544489]\n",
    " [10.14386897 28.05666224 26.95351926 27.88224878]]\n",
    " ```"
   ]
  },
  {
   "cell_type": "code",
   "execution_count": null,
   "metadata": {},
   "outputs": [],
   "source": []
  },
  {
   "cell_type": "markdown",
   "metadata": {},
   "source": [
    "## **No. 18**\n",
    "\n",
    "Terdapat sebuah array sebagai berikut.\n",
    "```\n",
    "arr_3 = np.array([ 64, 152, 120, 136, 112,  80,  48,  40, 144,  72,  16,  56,  24, 160,  32, 104,  96,   8,  88, 128])\n",
    "```\n",
    "Untuk setiap elemen arr_3, bagi setiap angka dalam array dengan 8 dan kemudian hitung serta tampilkan rata-rata, median, nilai minimum, standar deviasi, variance, dan percentile 70!\n",
    "\n",
    "Output\n",
    "```\n",
    "matriks dibagi 8: [ 8. 19. 15. 17. 14. 10.  6.  5. 18.  9.  2.  7.  3. 20.  4. 13. 12.  1.\n",
    " 11. 16.]\n",
    "Rata-rata: 10.5\n",
    "Median: 10.5\n",
    "Nilai Minimum: 1.0\n",
    "Standar Deviasi: 5.766281297335398\n",
    "Variance: 33.25\n",
    "Percentile 70: 14.299999999999999\n",
    "```"
   ]
  },
  {
   "cell_type": "code",
   "execution_count": null,
   "metadata": {},
   "outputs": [],
   "source": []
  }
 ],
 "metadata": {
  "colab": {
   "provenance": []
  },
  "kernelspec": {
   "display_name": "Python 3",
   "language": "python",
   "name": "python3"
  },
  "language_info": {
   "codemirror_mode": {
    "name": "ipython",
    "version": 3
   },
   "file_extension": ".py",
   "mimetype": "text/x-python",
   "name": "python",
   "nbconvert_exporter": "python",
   "pygments_lexer": "ipython3",
   "version": "3.12.1"
  },
  "orig_nbformat": 4,
  "vscode": {
   "interpreter": {
    "hash": "5489a9874ba682d27548fb7b00ff61b116635eb1e685343df8ce75e74bd8b68b"
   }
  }
 },
 "nbformat": 4,
 "nbformat_minor": 0
}
