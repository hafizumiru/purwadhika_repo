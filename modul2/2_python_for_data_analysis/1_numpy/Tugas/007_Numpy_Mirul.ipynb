{
 "cells": [
  {
   "cell_type": "markdown",
   "metadata": {
    "id": "Xh_ZokmxiJQT"
   },
   "source": [
    "**<title>Numpy Exercise 1</title>**\n",
    "\n",
    "**<h1>Numpy Exercise</h1>**\n",
    "\n",
    "<hr>\n",
    "\n",
    "*numpy documentation: https://numpy.org/doc/stable/"
   ]
  },
  {
   "cell_type": "code",
   "execution_count": 128,
   "metadata": {
    "id": "aFXsVkIYiJQW"
   },
   "outputs": [],
   "source": [
    "# Import library\n",
    "import numpy as np\n",
    "\n",
    "# Agar saat generate bilangan random hasilnya konsisten\n",
    "np.random.seed(0)"
   ]
  },
  {
   "cell_type": "markdown",
   "metadata": {
    "id": "jmCeLUFdiJQW"
   },
   "source": [
    "## **No.1**\n",
    "\n",
    "Buatlah sebuah array 1 dimensi (vektor) yang diisi dengan 36 elemen. Isi dari array\n",
    "tersebut adalah bilangan random yang dibangkitkan dari rentang nilai 1 hingga 100.\n",
    "Simpan array tersebut dalam sebuah variable bernama myArray, kemudian coba\n",
    "tampilkan!"
   ]
  },
  {
   "cell_type": "code",
   "execution_count": 129,
   "metadata": {
    "id": "Vsni-cAziJQW"
   },
   "outputs": [
    {
     "data": {
      "text/plain": [
       "array([45, 48, 65, 68, 68, 10, 84, 22, 37, 88, 71, 89, 89, 13, 59, 66, 40,\n",
       "       88, 47, 89, 82, 38, 26, 78, 73, 10, 21, 81, 70, 80, 48, 65, 83, 89,\n",
       "       50, 30], dtype=int32)"
      ]
     },
     "execution_count": 129,
     "metadata": {},
     "output_type": "execute_result"
    }
   ],
   "source": [
    "myArray = np.random.randint(1, 100, 36)\n",
    "myArray"
   ]
  },
  {
   "cell_type": "markdown",
   "metadata": {
    "id": "lyRwDBMBiJQX"
   },
   "source": [
    "## **No.2**\n",
    "\n",
    "Dari myArray, bentuklah 3 array dengan bentuk yang berbeda (mengganti dimensi\n",
    "matriksnya) dengan kombinasi ukuran yang berbeda beda!\n",
    "- Matriks berukuran 2x18\n",
    "- Matriks berukuran 9x4\n",
    "- Array 3 Dimensi berukuran 2x6x3"
   ]
  },
  {
   "cell_type": "code",
   "execution_count": 130,
   "metadata": {},
   "outputs": [
    {
     "data": {
      "text/plain": [
       "array([[45, 48, 65, 68, 68, 10, 84, 22, 37, 88, 71, 89, 89, 13, 59, 66,\n",
       "        40, 88],\n",
       "       [47, 89, 82, 38, 26, 78, 73, 10, 21, 81, 70, 80, 48, 65, 83, 89,\n",
       "        50, 30]], dtype=int32)"
      ]
     },
     "execution_count": 130,
     "metadata": {},
     "output_type": "execute_result"
    }
   ],
   "source": [
    "myArray2x18 = myArray.reshape(2, 18)\n",
    "myArray2x18"
   ]
  },
  {
   "cell_type": "code",
   "execution_count": 131,
   "metadata": {},
   "outputs": [
    {
     "data": {
      "text/plain": [
       "array([[45, 48, 65, 68],\n",
       "       [68, 10, 84, 22],\n",
       "       [37, 88, 71, 89],\n",
       "       [89, 13, 59, 66],\n",
       "       [40, 88, 47, 89],\n",
       "       [82, 38, 26, 78],\n",
       "       [73, 10, 21, 81],\n",
       "       [70, 80, 48, 65],\n",
       "       [83, 89, 50, 30]], dtype=int32)"
      ]
     },
     "execution_count": 131,
     "metadata": {},
     "output_type": "execute_result"
    }
   ],
   "source": [
    "myArray9x4 = myArray.reshape(9, 4)\n",
    "myArray9x4"
   ]
  },
  {
   "cell_type": "code",
   "execution_count": 132,
   "metadata": {
    "id": "EQJdKUKBiJQX"
   },
   "outputs": [
    {
     "data": {
      "text/plain": [
       "array([[[45, 48, 65],\n",
       "        [68, 68, 10],\n",
       "        [84, 22, 37],\n",
       "        [88, 71, 89],\n",
       "        [89, 13, 59],\n",
       "        [66, 40, 88]],\n",
       "\n",
       "       [[47, 89, 82],\n",
       "        [38, 26, 78],\n",
       "        [73, 10, 21],\n",
       "        [81, 70, 80],\n",
       "        [48, 65, 83],\n",
       "        [89, 50, 30]]], dtype=int32)"
      ]
     },
     "execution_count": 132,
     "metadata": {},
     "output_type": "execute_result"
    }
   ],
   "source": [
    "myArray2x6x3 = myArray.reshape(2, 6, 3)\n",
    "myArray2x6x3"
   ]
  },
  {
   "cell_type": "markdown",
   "metadata": {
    "id": "QCBDWwoLiJQX"
   },
   "source": [
    "## **No.3**\n",
    "\n",
    "Berapakah nilai minimun dan maksimum dari myArray? Tampilkan dan coba perlihatkan\n",
    "nilai maksimum dan minimum tersebut ada pada indeks keberapa!"
   ]
  },
  {
   "cell_type": "code",
   "execution_count": 133,
   "metadata": {},
   "outputs": [
    {
     "data": {
      "text/plain": [
       "np.int32(10)"
      ]
     },
     "execution_count": 133,
     "metadata": {},
     "output_type": "execute_result"
    }
   ],
   "source": [
    "myArray.min()"
   ]
  },
  {
   "cell_type": "code",
   "execution_count": 134,
   "metadata": {},
   "outputs": [
    {
     "data": {
      "text/plain": [
       "np.int64(5)"
      ]
     },
     "execution_count": 134,
     "metadata": {},
     "output_type": "execute_result"
    }
   ],
   "source": [
    "myArray.argmin()"
   ]
  },
  {
   "cell_type": "code",
   "execution_count": 135,
   "metadata": {
    "id": "rEui3eqMiJQX"
   },
   "outputs": [
    {
     "data": {
      "text/plain": [
       "np.int32(89)"
      ]
     },
     "execution_count": 135,
     "metadata": {},
     "output_type": "execute_result"
    }
   ],
   "source": [
    "myArray.max()"
   ]
  },
  {
   "cell_type": "code",
   "execution_count": 136,
   "metadata": {},
   "outputs": [
    {
     "data": {
      "text/plain": [
       "np.int64(11)"
      ]
     },
     "execution_count": 136,
     "metadata": {},
     "output_type": "execute_result"
    }
   ],
   "source": [
    "myArray.argmax()"
   ]
  },
  {
   "cell_type": "markdown",
   "metadata": {
    "id": "YOk4QkXQiJQX"
   },
   "source": [
    "## **No.4**\n",
    "\n",
    "Buatlah sebuah array baru dari myArray dengan data yang diambil berasal dari index 3,\n",
    "5, 30, 12, 15, 8, 24, 14, 22. Setelah itu, reshape bentuknya menjadi sebuah matrix\n",
    "ukuran 3x3!"
   ]
  },
  {
   "cell_type": "code",
   "execution_count": 137,
   "metadata": {
    "id": "bgpr9JHeiJQX"
   },
   "outputs": [
    {
     "data": {
      "text/plain": [
       "array([[68, 10, 48],\n",
       "       [89, 66, 37],\n",
       "       [73, 59, 26]], dtype=int32)"
      ]
     },
     "execution_count": 137,
     "metadata": {},
     "output_type": "execute_result"
    }
   ],
   "source": [
    "fancyArray = myArray[[3, 5, 30, 12, 15, 8, 24, 14, 22]]\n",
    "matrixArray = fancyArray.reshape(3,3)\n",
    "matrixArray"
   ]
  },
  {
   "cell_type": "markdown",
   "metadata": {
    "id": "npAWn8-OiJQX"
   },
   "source": [
    "## **No.5**\n",
    "Dari matrix yang dibuat pada nomor 4, tampilkan data yang nilainya lebih besar dari 50!"
   ]
  },
  {
   "cell_type": "code",
   "execution_count": 138,
   "metadata": {
    "id": "c8QAGFktiJQX"
   },
   "outputs": [
    {
     "data": {
      "text/plain": [
       "array([68, 89, 66, 73, 59], dtype=int32)"
      ]
     },
     "execution_count": 138,
     "metadata": {},
     "output_type": "execute_result"
    }
   ],
   "source": [
    "matrixArray[matrixArray > 50]"
   ]
  },
  {
   "cell_type": "markdown",
   "metadata": {
    "id": "RIFk2VWNiJQX"
   },
   "source": [
    "## **No.6**\n",
    "Buat sebuah array menggunkan salah satu method di numpy dengan output seperti di\n",
    "bawah ini! <br>\n",
    "`array([  0,  25,  50,  75, 100])`"
   ]
  },
  {
   "cell_type": "code",
   "execution_count": 139,
   "metadata": {
    "id": "dET9bQ8KiJQX"
   },
   "outputs": [
    {
     "data": {
      "text/plain": [
       "array([  0,  25,  50,  75, 100])"
      ]
     },
     "execution_count": 139,
     "metadata": {},
     "output_type": "execute_result"
    }
   ],
   "source": [
    "myArray = np.arange(0, 101, 25)\n",
    "myArray"
   ]
  },
  {
   "cell_type": "markdown",
   "metadata": {
    "id": "YeREXHNyiJQX"
   },
   "source": [
    "## **No.7**\n",
    "Buatlah sebuah array 2 dimensi dengan ukuran NxN di mana N nya adalah sebuah\n",
    "inputan. Isi dari array tersebut seluruhnya adalah angka 8!"
   ]
  },
  {
   "cell_type": "code",
   "execution_count": 140,
   "metadata": {
    "colab": {
     "base_uri": "https://localhost:8080/"
    },
    "id": "r_sGM5FBiJQX",
    "outputId": "9bfc7bf1-77b0-45a8-a30b-40eae77bf9b2"
   },
   "outputs": [
    {
     "data": {
      "text/plain": [
       "array([[8, 8, 8],\n",
       "       [8, 8, 8],\n",
       "       [8, 8, 8]], dtype=int32)"
      ]
     },
     "execution_count": 140,
     "metadata": {},
     "output_type": "execute_result"
    }
   ],
   "source": [
    "input = 3\n",
    "myArray = np.random.randint(8, 9, size=(input, input))\n",
    "myArray"
   ]
  },
  {
   "cell_type": "markdown",
   "metadata": {
    "id": "IRnycf7yiJQX"
   },
   "source": [
    "## **No.8**\n",
    "\n",
    "- Buatlah 2 buah array 2 dimensi seperti gambar di bawah ini, lalu simpan dalam variabel\n",
    "bernama arrayA dan arrayB!<br>\n",
    "\n",
    "```\n",
    "arrayA\n",
    "array([[ 1,  2,  3,  4]\n",
    "       [ 5,  6,  7,  8]\n",
    "       [ 9, 10, 11, 12]])\n",
    "```\n",
    "\n",
    "```\n",
    "arrayB\n",
    "array([[100],\n",
    "       [200],\n",
    "       [300],\n",
    "       [400]])\n",
    "```\n",
    "\n",
    "\n",
    "- Buatlah sebuah array yang berasal dari gabungan arrayA dan arrayB seperti gambar di\n",
    "bawah ini, simpan dalam variabel bernama arrayC!\n",
    "\n",
    "```\n",
    "array([[  1,   2,   3,   4],\n",
    "       [  5,   6,   7,   8],\n",
    "       [  9,  10,  11,  12],\n",
    "       [100, 200, 300, 400]])\n",
    "```"
   ]
  },
  {
   "cell_type": "code",
   "execution_count": 141,
   "metadata": {
    "id": "5pJjrEO2iJQY"
   },
   "outputs": [
    {
     "data": {
      "text/plain": [
       "array([[  1,   2,   3,   4],\n",
       "       [  5,   6,   7,   8],\n",
       "       [  9,  10,  11,  12],\n",
       "       [100, 200, 300, 400]])"
      ]
     },
     "execution_count": 141,
     "metadata": {},
     "output_type": "execute_result"
    }
   ],
   "source": [
    "arrayA = np.arange(1, 13).reshape(3, 4)\n",
    "arrayB = np.arange(100, 401, 100).reshape(4, 1)\n",
    "arrayC = np.concatenate((arrayA, arrayB.T), axis=0)\n",
    "arrayC"
   ]
  },
  {
   "cell_type": "markdown",
   "metadata": {
    "id": "DPGsZewUiJQY"
   },
   "source": [
    "## **No.9**\n",
    "\n",
    "Dari arrayC, lakukan slicing agar menghasilkan array di bawah ini!\n",
    "```\n",
    "array([[ 7,  8],\n",
    "       [11, 12]])\n",
    "```\n"
   ]
  },
  {
   "cell_type": "code",
   "execution_count": 142,
   "metadata": {
    "id": "JiFgx0wRiJQY"
   },
   "outputs": [
    {
     "data": {
      "text/plain": [
       "array([[ 7,  8],\n",
       "       [11, 12]])"
      ]
     },
     "execution_count": 142,
     "metadata": {},
     "output_type": "execute_result"
    }
   ],
   "source": [
    "arrayCustom = arrayC[1:3, 2:4]\n",
    "arrayCustom"
   ]
  },
  {
   "cell_type": "markdown",
   "metadata": {
    "id": "E-e3MrVFiJQY"
   },
   "source": [
    "## **No.10**\n",
    "Dari arrayC, lakukan indexing untuk mendapatkan angka 200!"
   ]
  },
  {
   "cell_type": "code",
   "execution_count": 143,
   "metadata": {
    "id": "oJ6C3GRciJQY"
   },
   "outputs": [
    {
     "data": {
      "text/plain": [
       "(array([3]), array([1]))"
      ]
     },
     "execution_count": 143,
     "metadata": {},
     "output_type": "execute_result"
    }
   ],
   "source": [
    "angka200 = np.where(arrayC == 200)\n",
    "angka200"
   ]
  },
  {
   "cell_type": "markdown",
   "metadata": {
    "id": "246j-4wziJQY"
   },
   "source": [
    "## **No. 11**\n",
    "Dari 2 array berikut, tampilkan index yang nilainya sama antara array a dan b."
   ]
  },
  {
   "cell_type": "code",
   "execution_count": 144,
   "metadata": {
    "id": "hBOmvpnMiJQY"
   },
   "outputs": [
    {
     "data": {
      "text/plain": [
       "(array([1, 3, 5, 7]),)"
      ]
     },
     "execution_count": 144,
     "metadata": {},
     "output_type": "execute_result"
    }
   ],
   "source": [
    "a = np.array([1, 2, 3, 2, 3, 4, 3, 4, 5, 6])\n",
    "b = np.array([7, 2, 10, 2, 7, 4, 9, 4, 9, 8])\n",
    "\n",
    "# Output:\n",
    "# array([1, 3, 5, 7])\n",
    "\n",
    "np.where(a == b)"
   ]
  },
  {
   "cell_type": "markdown",
   "metadata": {
    "id": "JAPy3LkwiJQY"
   },
   "source": [
    "## **No. 12**"
   ]
  },
  {
   "cell_type": "markdown",
   "metadata": {
    "id": "i-zGzgoviJQY"
   },
   "source": [
    "Dari array berikut, tampilkan nilai yang range-nya antara 5 dan 10!"
   ]
  },
  {
   "cell_type": "code",
   "execution_count": 145,
   "metadata": {
    "id": "j11vAA5TiJQY"
   },
   "outputs": [
    {
     "data": {
      "text/plain": [
       "array([ 6,  9, 10])"
      ]
     },
     "execution_count": 145,
     "metadata": {},
     "output_type": "execute_result"
    }
   ],
   "source": [
    "x = np.array([2, 6, 1, 9, 10, 3, 27])\n",
    "\n",
    "# Output:\n",
    "# array([6, 9, 10])\n",
    "\n",
    "x[(x >= 5) & (x <= 10)]"
   ]
  },
  {
   "cell_type": "markdown",
   "metadata": {
    "id": "8wnRd_GXiJQY"
   },
   "source": [
    "## **No. 13**\n",
    "\n",
    "Jika kode berikut dijalankan --> arr = np.arange(9).reshape(3, 3) <br>\n",
    "outputnya adalah:\n",
    "```\n",
    "array([[0, 1, 2],\n",
    "        [3, 4, 5],\n",
    "        [6, 7, 8]])\n",
    "```\n",
    "Bagaimana mengubah output di atas menjadi seperti berikut?\n",
    "```\n",
    " array([[1, 0, 2],\n",
    "        [4, 3, 5],\n",
    "        [7, 6, 8]])\n",
    "```"
   ]
  },
  {
   "cell_type": "code",
   "execution_count": 146,
   "metadata": {
    "id": "ql-GSLhJiJQY",
    "outputId": "7decb494-5dbd-4f21-c8ba-ab8f363d2bae"
   },
   "outputs": [
    {
     "data": {
      "text/plain": [
       "array([[0, 1, 2],\n",
       "       [3, 4, 5],\n",
       "       [6, 7, 8]])"
      ]
     },
     "execution_count": 146,
     "metadata": {},
     "output_type": "execute_result"
    }
   ],
   "source": [
    "arr = np.arange(9).reshape(3, 3)\n",
    "\n",
    "arr"
   ]
  },
  {
   "cell_type": "code",
   "execution_count": 147,
   "metadata": {},
   "outputs": [
    {
     "data": {
      "text/plain": [
       "array([[1, 0, 2],\n",
       "       [4, 3, 5],\n",
       "       [7, 6, 8]])"
      ]
     },
     "execution_count": 147,
     "metadata": {},
     "output_type": "execute_result"
    }
   ],
   "source": [
    "arr[0, 0], arr[0, 1] = arr[0, 1], arr[0, 0]\n",
    "arr[1, 0], arr[1, 1] = arr[1, 1], arr[1, 0]\n",
    "arr[2, 0], arr[2, 1] = arr[2, 1], arr[2, 0]\n",
    "\n",
    "arr"
   ]
  },
  {
   "cell_type": "markdown",
   "metadata": {
    "id": "tMIoAA_kiJQZ"
   },
   "source": [
    "## **No. 14**\n",
    "\n",
    "Jika kode berikut dijalankan --> arr = np.arange(9).reshape(3, 3)<br>\n",
    "outputnya adalah: <br>\n",
    "```\n",
    "array([[0, 1, 2],\n",
    "       [3, 4, 5],\n",
    "       [6, 7, 8]])\n",
    "```\n",
    "\n",
    "Bagaimana mengubah output di atas menjadi seperti berikut?<br>\n",
    "Output: <br>\n",
    "```\n",
    "array([[3, 4, 5],\n",
    "       [0, 1, 2],\n",
    "       [6, 7, 8]])\n",
    "```"
   ]
  },
  {
   "cell_type": "code",
   "execution_count": 148,
   "metadata": {
    "id": "CWM2hiTTiJQZ"
   },
   "outputs": [
    {
     "data": {
      "text/plain": [
       "array([[3, 4, 5],\n",
       "       [0, 1, 2],\n",
       "       [6, 7, 8]])"
      ]
     },
     "execution_count": 148,
     "metadata": {},
     "output_type": "execute_result"
    }
   ],
   "source": [
    "arr = np.arange(9).reshape(3, 3)\n",
    "\n",
    "arr[0, 0], arr[1, 0] = arr[1, 0], arr[0, 0]\n",
    "arr[0, 1], arr[1, 1] = arr[1, 1], arr[0, 1]\n",
    "arr[0, 2], arr[1, 2] = arr[1, 2], arr[0, 2]\n",
    "\n",
    "arr"
   ]
  },
  {
   "cell_type": "markdown",
   "metadata": {
    "id": "d71lF6mxiJQZ"
   },
   "source": [
    "## **No. 15**\n",
    "\n",
    "15. Jika kode berikut dijalankan --> arr = np.arange(9).reshape(3, 3)<br>\n",
    "outputnya adalah:\n",
    "```\n",
    "array([[0, 1, 2],\n",
    "       [3, 4, 5],\n",
    "       [6, 7, 8]])\n",
    "```\n",
    "\n",
    "Bagaimana mengubah output di atas menjadi seperti berikut?<br>\n",
    "\n",
    "Output:<br>\n",
    "```\n",
    "array([[2, 1, 0],\n",
    "       [5, 4, 3],\n",
    "       [8, 7, 6]])\n",
    "```"
   ]
  },
  {
   "cell_type": "code",
   "execution_count": 149,
   "metadata": {
    "id": "Q3UNTMv5iJQZ"
   },
   "outputs": [
    {
     "data": {
      "text/plain": [
       "array([[2, 1, 0],\n",
       "       [5, 4, 3],\n",
       "       [8, 7, 6]])"
      ]
     },
     "execution_count": 149,
     "metadata": {},
     "output_type": "execute_result"
    }
   ],
   "source": [
    "arr = np.arange(9).reshape(3, 3)\n",
    "\n",
    "arr[0, 0], arr[0, 2] = arr[0, 2], arr[0, 0]\n",
    "arr[1, 0], arr[1, 2] = arr[1, 2], arr[1, 0]\n",
    "arr[2, 0], arr[2, 2] = arr[2, 2], arr[2, 0]\n",
    "\n",
    "arr"
   ]
  },
  {
   "cell_type": "markdown",
   "metadata": {},
   "source": [
    "## **No. 16**\n",
    "\n",
    "Perhatikan array multidimensi berikut.<br>\n",
    "```\n",
    "arr_1 = np.array([\n",
    "    [7, 8, 9, 4, 3],\n",
    "    [5, 6, 2, 1, 0],\n",
    "    [3, 8, 4, 7, 2],\n",
    "    [9, 3, 5, 6, 1],\n",
    "    [0, 1, 2, 8, 4]\n",
    "])\n",
    "```\n",
    "Modifikasi lah array di atas sehingga menjadi dua buah matriks baru, matriks diagonal dan matriks segitiga atas.\n",
    "\n",
    "Output\n",
    "```\n",
    "[[7 0 0 0 0]\n",
    " [0 6 0 0 0]\n",
    " [0 0 4 0 0]\n",
    " [0 0 0 6 0]\n",
    " [0 0 0 0 4]]\n",
    "\n",
    "[[7 8 9 4 3]\n",
    " [0 6 2 1 0]\n",
    " [0 0 4 7 2]\n",
    " [0 0 0 6 1]\n",
    " [0 0 0 0 4]]\n",
    " ```"
   ]
  },
  {
   "cell_type": "code",
   "execution_count": 154,
   "metadata": {},
   "outputs": [],
   "source": [
    "arr_1 = np.array([\n",
    "    [7, 8, 9, 4, 3],\n",
    "    [5, 6, 2, 1, 0],\n",
    "    [3, 8, 4, 7, 2],\n",
    "    [9, 3, 5, 6, 1],\n",
    "    [0, 1, 2, 8, 4]\n",
    "])"
   ]
  },
  {
   "cell_type": "code",
   "execution_count": 156,
   "metadata": {},
   "outputs": [
    {
     "data": {
      "text/plain": [
       "array([[7, 0, 0, 0, 0],\n",
       "       [0, 6, 0, 0, 0],\n",
       "       [0, 0, 4, 0, 0],\n",
       "       [0, 0, 0, 6, 0],\n",
       "       [0, 0, 0, 0, 4]])"
      ]
     },
     "execution_count": 156,
     "metadata": {},
     "output_type": "execute_result"
    }
   ],
   "source": [
    "matriks_diagonal = np.diag(np.diag(arr_1))\n",
    "matriks_diagonal"
   ]
  },
  {
   "cell_type": "code",
   "execution_count": 155,
   "metadata": {},
   "outputs": [
    {
     "data": {
      "text/plain": [
       "array([[7, 0, 0, 0, 0],\n",
       "       [0, 6, 0, 0, 0],\n",
       "       [0, 0, 4, 0, 0],\n",
       "       [0, 0, 0, 6, 0],\n",
       "       [0, 0, 0, 0, 4]])"
      ]
     },
     "execution_count": 155,
     "metadata": {},
     "output_type": "execute_result"
    }
   ],
   "source": [
    "matriks_segitiga_atas = np.triu(arr_1)\n",
    "matriks_diagonal"
   ]
  },
  {
   "cell_type": "markdown",
   "metadata": {},
   "source": [
    "## **No. 17**\n",
    "\n",
    "Terdapat beberapa *array* multidimensi sebagai berikut.\n",
    "```\n",
    "A = np.array([[7, 8, 5, 3], [2, 9, 4, 6], [3, 7, 1, 8], [5, 2, 6, 4]])\n",
    "B = np.array([[3, 6, 8, 2], [4, 5, 7, 1], [9, 2, 3, 6], [1, 7, 5, 8]])\n",
    "C = np.array([[5, 9, 3, 7], [1, 6, 4, 2], [8, 3, 5, 1], [2, 7, 9, 4]])\n",
    "D = np.array([[6, 3, 5, 8], [2, 7, 9, 4], [1, 8, 6, 2], [5, 4, 3, 7]])\n",
    "```\n",
    "Dari keempat multidimensi array di atas, lakukanlah langkah-langkah berikut ini.\n",
    "1. Cari absolute dari pengurangan antara A dan C yang kemudian dijumlahi hasil pengurangan B dan D\n",
    "2. Buat matrix baru yang isinya adalah hasil kuadrat tiap elemen dari matrix pada langkah 1\n",
    "3. Jalankan operasi invers pada matrix pada langkah 2\n",
    "4. Terapkan operasi penjumlahan antara matrix pada langkah 3 dengan matriks C\n",
    "5. Jalankan perkalian skalar pada matrix D dengan hasil pada langkah 4\n",
    "*hint*: anda dapat menggunakan fungsi `sqrt()`\n",
    "\n",
    "Secara matematis, langkah di atas dapat dituliskan sebagai berikut.\n",
    "1. $V = |A - C + (B - D)|$\n",
    "2. $W = V^{2}$\n",
    "3. $X = W^{-1}$\n",
    "4. $Y = X + C$\n",
    "5. $result = Y*D$\n",
    "\n",
    "Print multidimensi array dari ```result```\n",
    "\n",
    "note: untuk perkalian matrix gunakan operasi *\n",
    "\n",
    "Output\n",
    "```\n",
    "[[30.18326693 27.41434263 14.86968792 55.68791501]\n",
    " [ 2.00885347 41.83576804 35.9497012   9.02810978]\n",
    " [ 7.92297477 23.53253652 30.38346614  2.05544489]\n",
    " [10.14386897 28.05666224 26.95351926 27.88224878]]\n",
    " ```"
   ]
  },
  {
   "cell_type": "code",
   "execution_count": null,
   "metadata": {},
   "outputs": [],
   "source": []
  },
  {
   "cell_type": "markdown",
   "metadata": {},
   "source": [
    "## **No. 18**\n",
    "\n",
    "Terdapat sebuah array sebagai berikut.\n",
    "```\n",
    "arr_3 = np.array([ 64, 152, 120, 136, 112,  80,  48,  40, 144,  72,  16,  56,  24, 160,  32, 104,  96,   8,  88, 128])\n",
    "```\n",
    "Untuk setiap elemen arr_3, bagi setiap angka dalam array dengan 8 dan kemudian hitung serta tampilkan rata-rata, median, nilai minimum, standar deviasi, variance, dan percentile 70!\n",
    "\n",
    "Output\n",
    "```\n",
    "matriks dibagi 8: [ 8. 19. 15. 17. 14. 10.  6.  5. 18.  9.  2.  7.  3. 20.  4. 13. 12.  1.\n",
    " 11. 16.]\n",
    "Rata-rata: 10.5\n",
    "Median: 10.5\n",
    "Nilai Minimum: 1.0\n",
    "Standar Deviasi: 5.766281297335398\n",
    "Variance: 33.25\n",
    "Percentile 70: 14.299999999999999\n",
    "```"
   ]
  },
  {
   "cell_type": "code",
   "execution_count": null,
   "metadata": {},
   "outputs": [],
   "source": []
  }
 ],
 "metadata": {
  "colab": {
   "provenance": []
  },
  "kernelspec": {
   "display_name": "python4DA",
   "language": "python",
   "name": "python3"
  },
  "language_info": {
   "codemirror_mode": {
    "name": "ipython",
    "version": 3
   },
   "file_extension": ".py",
   "mimetype": "text/x-python",
   "name": "python",
   "nbconvert_exporter": "python",
   "pygments_lexer": "ipython3",
   "version": "3.12.7"
  },
  "orig_nbformat": 4
 },
 "nbformat": 4,
 "nbformat_minor": 0
}
