{
  "nbformat": 4,
  "nbformat_minor": 0,
  "metadata": {
    "colab": {
      "provenance": []
    },
    "kernelspec": {
      "name": "python3",
      "display_name": "Python 3"
    },
    "language_info": {
      "name": "python"
    }
  },
  "cells": [
    {
      "cell_type": "markdown",
      "source": [
        "# Take Home Assignment - E-commerce Website Performance Analysis\n",
        "\n",
        "---\n",
        "\n",
        "## E-commerce Website Performance Analysis\n",
        "\n",
        "You are an analyst working for a thriving e-commerce company called \"Tech Haven.\" Tech Haven sells a wide range of technology products online, including\n",
        "smartphones, laptops, accessories, and more. The company operates its online store and is keen on understanding its monthly performance to make informed\n",
        "decisions.\n",
        "\n",
        "***Data Description***\n",
        "\n",
        "- **Visitors:** The number of visitors to the Tech Haven website each month. This metric represents the traffic the website receives.\n",
        "- **Revenue:** The monthly revenue generated from the sales of products on the website, measured in thousands of dollars. It includes revenue from product sales\n",
        "and any additional services offered.\n",
        "- **Expenses**: Monthly operating expenses incurred by Tech Haven, including marketing, server costs, employee salaries, and other business-related costs. Also\n",
        "measured in thousands of dollars.\n",
        "\n",
        "***Business Tasks:***\n",
        "\n",
        "1. **Conversion Rate Analysis**: Tech Haven is interested in understanding how well it is converting website visitors into paying customers. The conversion rate,\n",
        "which is calculated as the ratio of revenue to the number of visitors, is a crucial metric for this analysis.\n",
        "2. **Growth Analysis**: The company wants to assess its month-over-month and cumulative growth in terms of website visitors and revenue. Positive growth is an\n",
        "indicator of a healthy business.\n",
        "3. **Profit Calculation**: Tech Haven wants to calculate its monthly profit, which is the difference between revenue and expenses. Understanding profitability is\n",
        "essential for financial planning.\n",
        "4. **High-Performance Months**: The company is looking to identify months with high conversion rates, profits, and net profits. These months could provide insights\n",
        "into what contributes to success.\n",
        "5. **Average Profit Analysis**: Tech Haven wants to know the average monthly profit over the year to get a sense of the consistent performance.\n",
        "6. **Correlation Analysis**: The correlation between website visitors and revenue is of interest to assess whether there's a relationship between traffic and sales.\n",
        "7. **Tax and Net Profit Analysis**: The company wants to factor in tax expenses and calculate the net profit for each month, which provides a more accurate picture\n",
        "of profitability.\n",
        "8. **Moving Average Analysis**: Understanding trends in revenue is crucial. Calculating a 3-month moving average helps in smoothing out fluctuations and\n",
        "identifying trends.\n",
        "\n",
        "***Key Business Decisions:***\n",
        "\n",
        "1. Understanding which months had the highest conversion rates can help in optimizing marketing efforts during similar periods.\n",
        "2. Identifying months with high profits and net profits can guide resource allocation and investment decisions.\n",
        "3. Analyzing correlations can help in predicting future revenue based on website traffic.\n",
        "Monitoring growth rates helps in setting realistic business goals.\n",
        "4. Tracking moving averages can provide insights into long-term performance trends."
      ],
      "metadata": {
        "id": "XSE1q5vY0O-C"
      }
    },
    {
      "cell_type": "code",
      "execution_count": null,
      "metadata": {
        "id": "mZwscYwGz0oW"
      },
      "outputs": [],
      "source": [
        "import numpy as np\n",
        "import pandas as pd\n",
        "\n",
        "# Monthly data for the e-commerce website\n",
        "visitors = np.array([1000, 1200, 1100, 1300, 1400, 1500, 1600, 1700, 1800, 1900, 2000, 2100])\n",
        "revenue = np.array([20000, 22000, 21000, 23000, 24000, 25000, 26000, 27000, 28000, 29000, 30000, 31000])\n",
        "expenses = np.array([15000, 16000, 15500, 16500, 17000, 17500, 18000, 18500, 19000, 19500, 20000, 20500])"
      ]
    }
  ]
}